{
  "cells": [
    {
      "cell_type": "markdown",
      "metadata": {
        "id": "aELknlVBhdvv"
      },
      "source": [
        "# 1 Pengumpulan Data"
      ]
    },
    {
      "cell_type": "markdown",
      "metadata": {
        "id": "0RJiLwiN9SlE"
      },
      "source": [
        "Dataset yang digunakan https://archive.ics.uci.edu/dataset/45/heart+disease"
      ]
    },
    {
      "cell_type": "markdown",
      "metadata": {
        "id": "Sd7-SU6ahj-n"
      },
      "source": [
        "# 2 Menelaah Data"
      ]
    },
    {
      "cell_type": "markdown",
      "metadata": {
        "id": "j0gj0VY39aNF"
      },
      "source": [
        "pilih dan masukan library yang anda butuhkan untuk menelaah data"
      ]
    },
    {
      "cell_type": "code",
      "execution_count": 1,
      "metadata": {
        "id": "HmYEPECYgyro"
      },
      "outputs": [],
      "source": [
        "import pandas as pd\n",
        "import re\n",
        "import numpy as np\n",
        "import itertools\n",
        "import pickle"
      ]
    },
    {
      "cell_type": "markdown",
      "metadata": {
        "id": "hFNzRkB5jesw"
      },
      "source": [
        "## Load Data"
      ]
    },
    {
      "cell_type": "code",
      "execution_count": 2,
      "metadata": {
        "id": "EGHDe6EJhdRX"
      },
      "outputs": [],
      "source": [
        "dir = 'dataset/cleveland.data'"
      ]
    },
    {
      "cell_type": "code",
      "execution_count": 3,
      "metadata": {
        "id": "g1kV8A7ailX3"
      },
      "outputs": [],
      "source": [
        "# buatlah iterasi untuk membaca dataset\n",
        "with open(dir, encoding='Latin1') as file:\n",
        "    lines = [line.strip() for line in file]"
      ]
    },
    {
      "cell_type": "code",
      "execution_count": 4,
      "metadata": {
        "colab": {
          "base_uri": "https://localhost:8080/"
        },
        "id": "njrrlG0GjAuQ",
        "outputId": "f4c293c2-af02-49d1-ed7c-c7d8605cb801"
      },
      "outputs": [
        {
          "data": {
            "text/plain": [
              "['1 0 63 1 -9 -9 -9',\n",
              " '-9 1 145 1 233 -9 50 20',\n",
              " '1 -9 1 2 2 3 81 0',\n",
              " '0 0 0 0 1 10.5 6 13',\n",
              " '150 60 190 90 145 85 0 0',\n",
              " '2.3 3 -9 172 0 -9 -9 -9',\n",
              " '-9 -9 -9 6 -9 -9 -9 2',\n",
              " '16 81 0 1 1 1 -9 1',\n",
              " '-9 1 -9 1 1 1 1 1',\n",
              " '1 1 -9 -9 name']"
            ]
          },
          "execution_count": 4,
          "metadata": {},
          "output_type": "execute_result"
        }
      ],
      "source": [
        "lines[:10]"
      ]
    },
    {
      "cell_type": "markdown",
      "metadata": {
        "id": "aFZW1-gT9whn"
      },
      "source": [
        "setelah membaca file dataset lakukan iterasi sesuai jumlah kolom dan baris yang ada pada dataset. Untuk keterangan kolom dan baris dapat dilihat melalui deskripsi dataset yang sudah dijelaskan sebelumnya"
      ]
    },
    {
      "cell_type": "code",
      "execution_count": 5,
      "metadata": {
        "colab": {
          "base_uri": "https://localhost:8080/",
          "height": 236
        },
        "id": "c1ftUJZNjFBf",
        "outputId": "efcccdcb-9996-4a05-88f6-2a4bf11f0adc"
      },
      "outputs": [
        {
          "data": {
            "text/html": [
              "<div>\n",
              "<style scoped>\n",
              "    .dataframe tbody tr th:only-of-type {\n",
              "        vertical-align: middle;\n",
              "    }\n",
              "\n",
              "    .dataframe tbody tr th {\n",
              "        vertical-align: top;\n",
              "    }\n",
              "\n",
              "    .dataframe thead th {\n",
              "        text-align: right;\n",
              "    }\n",
              "</style>\n",
              "<table border=\"1\" class=\"dataframe\">\n",
              "  <thead>\n",
              "    <tr style=\"text-align: right;\">\n",
              "      <th></th>\n",
              "      <th>0</th>\n",
              "      <th>1</th>\n",
              "      <th>2</th>\n",
              "      <th>3</th>\n",
              "      <th>4</th>\n",
              "      <th>5</th>\n",
              "      <th>6</th>\n",
              "      <th>7</th>\n",
              "      <th>8</th>\n",
              "      <th>9</th>\n",
              "      <th>...</th>\n",
              "      <th>66</th>\n",
              "      <th>67</th>\n",
              "      <th>68</th>\n",
              "      <th>69</th>\n",
              "      <th>70</th>\n",
              "      <th>71</th>\n",
              "      <th>72</th>\n",
              "      <th>73</th>\n",
              "      <th>74</th>\n",
              "      <th>75</th>\n",
              "    </tr>\n",
              "  </thead>\n",
              "  <tbody>\n",
              "    <tr>\n",
              "      <th>0</th>\n",
              "      <td>1</td>\n",
              "      <td>0</td>\n",
              "      <td>63</td>\n",
              "      <td>1</td>\n",
              "      <td>-9</td>\n",
              "      <td>-9</td>\n",
              "      <td>-9</td>\n",
              "      <td>-9</td>\n",
              "      <td>1</td>\n",
              "      <td>145</td>\n",
              "      <td>...</td>\n",
              "      <td>1</td>\n",
              "      <td>1</td>\n",
              "      <td>1</td>\n",
              "      <td>1</td>\n",
              "      <td>1</td>\n",
              "      <td>1</td>\n",
              "      <td>1</td>\n",
              "      <td>-9</td>\n",
              "      <td>-9</td>\n",
              "      <td>name</td>\n",
              "    </tr>\n",
              "    <tr>\n",
              "      <th>1</th>\n",
              "      <td>2</td>\n",
              "      <td>0</td>\n",
              "      <td>67</td>\n",
              "      <td>1</td>\n",
              "      <td>-9</td>\n",
              "      <td>-9</td>\n",
              "      <td>-9</td>\n",
              "      <td>-9</td>\n",
              "      <td>4</td>\n",
              "      <td>160</td>\n",
              "      <td>...</td>\n",
              "      <td>1</td>\n",
              "      <td>1</td>\n",
              "      <td>1</td>\n",
              "      <td>1</td>\n",
              "      <td>1</td>\n",
              "      <td>1</td>\n",
              "      <td>1</td>\n",
              "      <td>-9</td>\n",
              "      <td>-9</td>\n",
              "      <td>name</td>\n",
              "    </tr>\n",
              "    <tr>\n",
              "      <th>2</th>\n",
              "      <td>3</td>\n",
              "      <td>0</td>\n",
              "      <td>67</td>\n",
              "      <td>1</td>\n",
              "      <td>-9</td>\n",
              "      <td>-9</td>\n",
              "      <td>-9</td>\n",
              "      <td>-9</td>\n",
              "      <td>4</td>\n",
              "      <td>120</td>\n",
              "      <td>...</td>\n",
              "      <td>2</td>\n",
              "      <td>2</td>\n",
              "      <td>1</td>\n",
              "      <td>1</td>\n",
              "      <td>1</td>\n",
              "      <td>7</td>\n",
              "      <td>3</td>\n",
              "      <td>-9</td>\n",
              "      <td>-9</td>\n",
              "      <td>name</td>\n",
              "    </tr>\n",
              "    <tr>\n",
              "      <th>3</th>\n",
              "      <td>4</td>\n",
              "      <td>0</td>\n",
              "      <td>37</td>\n",
              "      <td>1</td>\n",
              "      <td>-9</td>\n",
              "      <td>-9</td>\n",
              "      <td>-9</td>\n",
              "      <td>-9</td>\n",
              "      <td>3</td>\n",
              "      <td>130</td>\n",
              "      <td>...</td>\n",
              "      <td>1</td>\n",
              "      <td>1</td>\n",
              "      <td>1</td>\n",
              "      <td>1</td>\n",
              "      <td>1</td>\n",
              "      <td>1</td>\n",
              "      <td>1</td>\n",
              "      <td>-9</td>\n",
              "      <td>-9</td>\n",
              "      <td>name</td>\n",
              "    </tr>\n",
              "    <tr>\n",
              "      <th>4</th>\n",
              "      <td>6</td>\n",
              "      <td>0</td>\n",
              "      <td>41</td>\n",
              "      <td>0</td>\n",
              "      <td>-9</td>\n",
              "      <td>-9</td>\n",
              "      <td>-9</td>\n",
              "      <td>-9</td>\n",
              "      <td>2</td>\n",
              "      <td>130</td>\n",
              "      <td>...</td>\n",
              "      <td>1</td>\n",
              "      <td>1</td>\n",
              "      <td>1</td>\n",
              "      <td>1</td>\n",
              "      <td>1</td>\n",
              "      <td>1</td>\n",
              "      <td>1</td>\n",
              "      <td>-9</td>\n",
              "      <td>-9</td>\n",
              "      <td>name</td>\n",
              "    </tr>\n",
              "  </tbody>\n",
              "</table>\n",
              "<p>5 rows × 76 columns</p>\n",
              "</div>"
            ],
            "text/plain": [
              "  0  1   2  3   4   5   6   7  8    9   ... 66 67 68 69 70 71 72  73  74    75\n",
              "0  1  0  63  1  -9  -9  -9  -9  1  145  ...  1  1  1  1  1  1  1  -9  -9  name\n",
              "1  2  0  67  1  -9  -9  -9  -9  4  160  ...  1  1  1  1  1  1  1  -9  -9  name\n",
              "2  3  0  67  1  -9  -9  -9  -9  4  120  ...  2  2  1  1  1  7  3  -9  -9  name\n",
              "3  4  0  37  1  -9  -9  -9  -9  3  130  ...  1  1  1  1  1  1  1  -9  -9  name\n",
              "4  6  0  41  0  -9  -9  -9  -9  2  130  ...  1  1  1  1  1  1  1  -9  -9  name\n",
              "\n",
              "[5 rows x 76 columns]"
            ]
          },
          "execution_count": 5,
          "metadata": {},
          "output_type": "execute_result"
        }
      ],
      "source": [
        "data = itertools.takewhile(\n",
        "  lambda x: len(x) == 76,\n",
        "  (' '.join(lines[i:(i + 10)]).split() for i in range(0, len(lines), 10))\n",
        ")\n",
        "\n",
        "df = pd.DataFrame.from_records(data)\n",
        "df.head()"
      ]
    },
    {
      "cell_type": "markdown",
      "metadata": {
        "id": "N-zzCGq09zx9"
      },
      "source": [
        "menampilan informasi dari file dataset yang sudah dimasukkan kedalam dataframe"
      ]
    },
    {
      "cell_type": "code",
      "execution_count": 6,
      "metadata": {
        "colab": {
          "base_uri": "https://localhost:8080/"
        },
        "id": "4BdpoBYmjUC_",
        "outputId": "e36e3387-0a3e-4943-a6bd-2c1e635e02c0"
      },
      "outputs": [
        {
          "name": "stdout",
          "output_type": "stream",
          "text": [
            "<class 'pandas.core.frame.DataFrame'>\n",
            "RangeIndex: 282 entries, 0 to 281\n",
            "Data columns (total 76 columns):\n",
            " #   Column  Non-Null Count  Dtype \n",
            "---  ------  --------------  ----- \n",
            " 0   0       282 non-null    object\n",
            " 1   1       282 non-null    object\n",
            " 2   2       282 non-null    object\n",
            " 3   3       282 non-null    object\n",
            " 4   4       282 non-null    object\n",
            " 5   5       282 non-null    object\n",
            " 6   6       282 non-null    object\n",
            " 7   7       282 non-null    object\n",
            " 8   8       282 non-null    object\n",
            " 9   9       282 non-null    object\n",
            " 10  10      282 non-null    object\n",
            " 11  11      282 non-null    object\n",
            " 12  12      282 non-null    object\n",
            " 13  13      282 non-null    object\n",
            " 14  14      282 non-null    object\n",
            " 15  15      282 non-null    object\n",
            " 16  16      282 non-null    object\n",
            " 17  17      282 non-null    object\n",
            " 18  18      282 non-null    object\n",
            " 19  19      282 non-null    object\n",
            " 20  20      282 non-null    object\n",
            " 21  21      282 non-null    object\n",
            " 22  22      282 non-null    object\n",
            " 23  23      282 non-null    object\n",
            " 24  24      282 non-null    object\n",
            " 25  25      282 non-null    object\n",
            " 26  26      282 non-null    object\n",
            " 27  27      282 non-null    object\n",
            " 28  28      282 non-null    object\n",
            " 29  29      282 non-null    object\n",
            " 30  30      282 non-null    object\n",
            " 31  31      282 non-null    object\n",
            " 32  32      282 non-null    object\n",
            " 33  33      282 non-null    object\n",
            " 34  34      282 non-null    object\n",
            " 35  35      282 non-null    object\n",
            " 36  36      282 non-null    object\n",
            " 37  37      282 non-null    object\n",
            " 38  38      282 non-null    object\n",
            " 39  39      282 non-null    object\n",
            " 40  40      282 non-null    object\n",
            " 41  41      282 non-null    object\n",
            " 42  42      282 non-null    object\n",
            " 43  43      282 non-null    object\n",
            " 44  44      282 non-null    object\n",
            " 45  45      282 non-null    object\n",
            " 46  46      282 non-null    object\n",
            " 47  47      282 non-null    object\n",
            " 48  48      282 non-null    object\n",
            " 49  49      282 non-null    object\n",
            " 50  50      282 non-null    object\n",
            " 51  51      282 non-null    object\n",
            " 52  52      282 non-null    object\n",
            " 53  53      282 non-null    object\n",
            " 54  54      282 non-null    object\n",
            " 55  55      282 non-null    object\n",
            " 56  56      282 non-null    object\n",
            " 57  57      282 non-null    object\n",
            " 58  58      282 non-null    object\n",
            " 59  59      282 non-null    object\n",
            " 60  60      282 non-null    object\n",
            " 61  61      282 non-null    object\n",
            " 62  62      282 non-null    object\n",
            " 63  63      282 non-null    object\n",
            " 64  64      282 non-null    object\n",
            " 65  65      282 non-null    object\n",
            " 66  66      282 non-null    object\n",
            " 67  67      282 non-null    object\n",
            " 68  68      282 non-null    object\n",
            " 69  69      282 non-null    object\n",
            " 70  70      282 non-null    object\n",
            " 71  71      282 non-null    object\n",
            " 72  72      282 non-null    object\n",
            " 73  73      282 non-null    object\n",
            " 74  74      282 non-null    object\n",
            " 75  75      282 non-null    object\n",
            "dtypes: object(76)\n",
            "memory usage: 167.6+ KB\n"
          ]
        }
      ],
      "source": [
        "df.info()"
      ]
    },
    {
      "cell_type": "markdown",
      "metadata": {
        "id": "a0GpZcqskAcH"
      },
      "source": [
        "Pada kondisi dataset yang kita miliki terdapat kondisi khusus yang dimana sebelum memasuki tahap validasi data untuk tipe data object atau string perlu dilakukan penghapusan fitur dikarenakan pada dataset ini nilai null disimbolkan dengan angka -9.0"
      ]
    },
    {
      "cell_type": "code",
      "execution_count": 7,
      "metadata": {
        "id": "Sm4a2F-TjYr3"
      },
      "outputs": [],
      "source": [
        "df = df.iloc[:,:-1]\n",
        "df = df.drop(df.columns[0], axis=1)"
      ]
    },
    {
      "cell_type": "markdown",
      "metadata": {
        "id": "MRR8wzoYoScB"
      },
      "source": [
        "mengubah tipe data file dataset menjadi tipe data float sesuai dengan nilai null yaitu -9.0"
      ]
    },
    {
      "cell_type": "code",
      "execution_count": 8,
      "metadata": {
        "colab": {
          "base_uri": "https://localhost:8080/"
        },
        "id": "ukCXvIRAoRKR",
        "outputId": "6e76d219-6509-4b32-b799-7a421b345bb0"
      },
      "outputs": [
        {
          "name": "stdout",
          "output_type": "stream",
          "text": [
            "<class 'pandas.core.frame.DataFrame'>\n",
            "RangeIndex: 282 entries, 0 to 281\n",
            "Data columns (total 74 columns):\n",
            " #   Column  Non-Null Count  Dtype  \n",
            "---  ------  --------------  -----  \n",
            " 0   1       282 non-null    float64\n",
            " 1   2       282 non-null    float64\n",
            " 2   3       282 non-null    float64\n",
            " 3   4       282 non-null    float64\n",
            " 4   5       282 non-null    float64\n",
            " 5   6       282 non-null    float64\n",
            " 6   7       282 non-null    float64\n",
            " 7   8       282 non-null    float64\n",
            " 8   9       282 non-null    float64\n",
            " 9   10      282 non-null    float64\n",
            " 10  11      282 non-null    float64\n",
            " 11  12      282 non-null    float64\n",
            " 12  13      282 non-null    float64\n",
            " 13  14      282 non-null    float64\n",
            " 14  15      282 non-null    float64\n",
            " 15  16      282 non-null    float64\n",
            " 16  17      282 non-null    float64\n",
            " 17  18      282 non-null    float64\n",
            " 18  19      282 non-null    float64\n",
            " 19  20      282 non-null    float64\n",
            " 20  21      282 non-null    float64\n",
            " 21  22      282 non-null    float64\n",
            " 22  23      282 non-null    float64\n",
            " 23  24      282 non-null    float64\n",
            " 24  25      282 non-null    float64\n",
            " 25  26      282 non-null    float64\n",
            " 26  27      282 non-null    float64\n",
            " 27  28      282 non-null    float64\n",
            " 28  29      282 non-null    float64\n",
            " 29  30      282 non-null    float64\n",
            " 30  31      282 non-null    float64\n",
            " 31  32      282 non-null    float64\n",
            " 32  33      282 non-null    float64\n",
            " 33  34      282 non-null    float64\n",
            " 34  35      282 non-null    float64\n",
            " 35  36      282 non-null    float64\n",
            " 36  37      282 non-null    float64\n",
            " 37  38      282 non-null    float64\n",
            " 38  39      282 non-null    float64\n",
            " 39  40      282 non-null    float64\n",
            " 40  41      282 non-null    float64\n",
            " 41  42      282 non-null    float64\n",
            " 42  43      282 non-null    float64\n",
            " 43  44      282 non-null    float64\n",
            " 44  45      282 non-null    float64\n",
            " 45  46      282 non-null    float64\n",
            " 46  47      282 non-null    float64\n",
            " 47  48      282 non-null    float64\n",
            " 48  49      282 non-null    float64\n",
            " 49  50      282 non-null    float64\n",
            " 50  51      282 non-null    float64\n",
            " 51  52      282 non-null    float64\n",
            " 52  53      282 non-null    float64\n",
            " 53  54      282 non-null    float64\n",
            " 54  55      282 non-null    float64\n",
            " 55  56      282 non-null    float64\n",
            " 56  57      282 non-null    float64\n",
            " 57  58      282 non-null    float64\n",
            " 58  59      282 non-null    float64\n",
            " 59  60      282 non-null    float64\n",
            " 60  61      282 non-null    float64\n",
            " 61  62      282 non-null    float64\n",
            " 62  63      282 non-null    float64\n",
            " 63  64      282 non-null    float64\n",
            " 64  65      282 non-null    float64\n",
            " 65  66      282 non-null    float64\n",
            " 66  67      282 non-null    float64\n",
            " 67  68      282 non-null    float64\n",
            " 68  69      282 non-null    float64\n",
            " 69  70      282 non-null    float64\n",
            " 70  71      282 non-null    float64\n",
            " 71  72      282 non-null    float64\n",
            " 72  73      282 non-null    float64\n",
            " 73  74      282 non-null    float64\n",
            "dtypes: float64(74)\n",
            "memory usage: 163.2 KB\n"
          ]
        }
      ],
      "source": [
        "df = df.astype(float)\n",
        "df.info()"
      ]
    },
    {
      "cell_type": "markdown",
      "metadata": {
        "id": "XxkODYnDkDaH"
      },
      "source": [
        "# 3. Validasi Data\n",
        "\n",
        "Pada tahap ini bertujuan untuk mengetahui dan memahami isi dari dataset agar dapat dilakukan penanganan sesuai dengan kondisinya mengubah nilai -9.0 menjadi nilai null value sesuai dengan deskripsi dataset"
      ]
    },
    {
      "cell_type": "code",
      "execution_count": 9,
      "metadata": {
        "id": "MBBCRQHQkFz_"
      },
      "outputs": [],
      "source": [
        "df.replace(-9.0, np.nan, inplace=True)"
      ]
    },
    {
      "cell_type": "code",
      "execution_count": 10,
      "metadata": {
        "colab": {
          "base_uri": "https://localhost:8080/"
        },
        "id": "MghtsNRWkQ-3",
        "outputId": "1737c555-6c4e-4b07-9113-4f33b2b0ecec"
      },
      "outputs": [
        {
          "data": {
            "text/plain": [
              "1       0\n",
              "2       0\n",
              "3       0\n",
              "4     282\n",
              "5     282\n",
              "     ... \n",
              "70      0\n",
              "71      0\n",
              "72      0\n",
              "73    282\n",
              "74    282\n",
              "Length: 74, dtype: int64"
            ]
          },
          "execution_count": 10,
          "metadata": {},
          "output_type": "execute_result"
        }
      ],
      "source": [
        "# menghitung jumlah nilai null value\n",
        "\n",
        "df.isnull().sum()\n"
      ]
    },
    {
      "cell_type": "code",
      "execution_count": 11,
      "metadata": {
        "colab": {
          "base_uri": "https://localhost:8080/",
          "height": 256
        },
        "id": "0YNJ_udYkUIX",
        "outputId": "0bd42836-470a-40e5-f84f-8c4c9b3b59eb"
      },
      "outputs": [
        {
          "data": {
            "text/html": [
              "<div>\n",
              "<style scoped>\n",
              "    .dataframe tbody tr th:only-of-type {\n",
              "        vertical-align: middle;\n",
              "    }\n",
              "\n",
              "    .dataframe tbody tr th {\n",
              "        vertical-align: top;\n",
              "    }\n",
              "\n",
              "    .dataframe thead th {\n",
              "        text-align: right;\n",
              "    }\n",
              "</style>\n",
              "<table border=\"1\" class=\"dataframe\">\n",
              "  <thead>\n",
              "    <tr style=\"text-align: right;\">\n",
              "      <th></th>\n",
              "      <th>1</th>\n",
              "      <th>2</th>\n",
              "      <th>3</th>\n",
              "      <th>4</th>\n",
              "      <th>5</th>\n",
              "      <th>6</th>\n",
              "      <th>7</th>\n",
              "      <th>8</th>\n",
              "      <th>9</th>\n",
              "      <th>10</th>\n",
              "      <th>...</th>\n",
              "      <th>65</th>\n",
              "      <th>66</th>\n",
              "      <th>67</th>\n",
              "      <th>68</th>\n",
              "      <th>69</th>\n",
              "      <th>70</th>\n",
              "      <th>71</th>\n",
              "      <th>72</th>\n",
              "      <th>73</th>\n",
              "      <th>74</th>\n",
              "    </tr>\n",
              "  </thead>\n",
              "  <tbody>\n",
              "    <tr>\n",
              "      <th>0</th>\n",
              "      <td>0.0</td>\n",
              "      <td>63.0</td>\n",
              "      <td>1.0</td>\n",
              "      <td>NaN</td>\n",
              "      <td>NaN</td>\n",
              "      <td>NaN</td>\n",
              "      <td>NaN</td>\n",
              "      <td>1.0</td>\n",
              "      <td>145.0</td>\n",
              "      <td>1.0</td>\n",
              "      <td>...</td>\n",
              "      <td>NaN</td>\n",
              "      <td>1.0</td>\n",
              "      <td>1.0</td>\n",
              "      <td>1.0</td>\n",
              "      <td>1.0</td>\n",
              "      <td>1.0</td>\n",
              "      <td>1.0</td>\n",
              "      <td>1.0</td>\n",
              "      <td>NaN</td>\n",
              "      <td>NaN</td>\n",
              "    </tr>\n",
              "    <tr>\n",
              "      <th>1</th>\n",
              "      <td>0.0</td>\n",
              "      <td>67.0</td>\n",
              "      <td>1.0</td>\n",
              "      <td>NaN</td>\n",
              "      <td>NaN</td>\n",
              "      <td>NaN</td>\n",
              "      <td>NaN</td>\n",
              "      <td>4.0</td>\n",
              "      <td>160.0</td>\n",
              "      <td>1.0</td>\n",
              "      <td>...</td>\n",
              "      <td>NaN</td>\n",
              "      <td>1.0</td>\n",
              "      <td>1.0</td>\n",
              "      <td>1.0</td>\n",
              "      <td>1.0</td>\n",
              "      <td>1.0</td>\n",
              "      <td>1.0</td>\n",
              "      <td>1.0</td>\n",
              "      <td>NaN</td>\n",
              "      <td>NaN</td>\n",
              "    </tr>\n",
              "    <tr>\n",
              "      <th>2</th>\n",
              "      <td>0.0</td>\n",
              "      <td>67.0</td>\n",
              "      <td>1.0</td>\n",
              "      <td>NaN</td>\n",
              "      <td>NaN</td>\n",
              "      <td>NaN</td>\n",
              "      <td>NaN</td>\n",
              "      <td>4.0</td>\n",
              "      <td>120.0</td>\n",
              "      <td>1.0</td>\n",
              "      <td>...</td>\n",
              "      <td>NaN</td>\n",
              "      <td>2.0</td>\n",
              "      <td>2.0</td>\n",
              "      <td>1.0</td>\n",
              "      <td>1.0</td>\n",
              "      <td>1.0</td>\n",
              "      <td>7.0</td>\n",
              "      <td>3.0</td>\n",
              "      <td>NaN</td>\n",
              "      <td>NaN</td>\n",
              "    </tr>\n",
              "    <tr>\n",
              "      <th>3</th>\n",
              "      <td>0.0</td>\n",
              "      <td>37.0</td>\n",
              "      <td>1.0</td>\n",
              "      <td>NaN</td>\n",
              "      <td>NaN</td>\n",
              "      <td>NaN</td>\n",
              "      <td>NaN</td>\n",
              "      <td>3.0</td>\n",
              "      <td>130.0</td>\n",
              "      <td>0.0</td>\n",
              "      <td>...</td>\n",
              "      <td>NaN</td>\n",
              "      <td>1.0</td>\n",
              "      <td>1.0</td>\n",
              "      <td>1.0</td>\n",
              "      <td>1.0</td>\n",
              "      <td>1.0</td>\n",
              "      <td>1.0</td>\n",
              "      <td>1.0</td>\n",
              "      <td>NaN</td>\n",
              "      <td>NaN</td>\n",
              "    </tr>\n",
              "    <tr>\n",
              "      <th>4</th>\n",
              "      <td>0.0</td>\n",
              "      <td>41.0</td>\n",
              "      <td>0.0</td>\n",
              "      <td>NaN</td>\n",
              "      <td>NaN</td>\n",
              "      <td>NaN</td>\n",
              "      <td>NaN</td>\n",
              "      <td>2.0</td>\n",
              "      <td>130.0</td>\n",
              "      <td>1.0</td>\n",
              "      <td>...</td>\n",
              "      <td>NaN</td>\n",
              "      <td>1.0</td>\n",
              "      <td>1.0</td>\n",
              "      <td>1.0</td>\n",
              "      <td>1.0</td>\n",
              "      <td>1.0</td>\n",
              "      <td>1.0</td>\n",
              "      <td>1.0</td>\n",
              "      <td>NaN</td>\n",
              "      <td>NaN</td>\n",
              "    </tr>\n",
              "  </tbody>\n",
              "</table>\n",
              "<p>5 rows × 74 columns</p>\n",
              "</div>"
            ],
            "text/plain": [
              "    1     2    3   4   5   6   7    8      9    10  ...  65   66   67   68  \\\n",
              "0  0.0  63.0  1.0 NaN NaN NaN NaN  1.0  145.0  1.0  ... NaN  1.0  1.0  1.0   \n",
              "1  0.0  67.0  1.0 NaN NaN NaN NaN  4.0  160.0  1.0  ... NaN  1.0  1.0  1.0   \n",
              "2  0.0  67.0  1.0 NaN NaN NaN NaN  4.0  120.0  1.0  ... NaN  2.0  2.0  1.0   \n",
              "3  0.0  37.0  1.0 NaN NaN NaN NaN  3.0  130.0  0.0  ... NaN  1.0  1.0  1.0   \n",
              "4  0.0  41.0  0.0 NaN NaN NaN NaN  2.0  130.0  1.0  ... NaN  1.0  1.0  1.0   \n",
              "\n",
              "    69   70   71   72  73  74  \n",
              "0  1.0  1.0  1.0  1.0 NaN NaN  \n",
              "1  1.0  1.0  1.0  1.0 NaN NaN  \n",
              "2  1.0  1.0  7.0  3.0 NaN NaN  \n",
              "3  1.0  1.0  1.0  1.0 NaN NaN  \n",
              "4  1.0  1.0  1.0  1.0 NaN NaN  \n",
              "\n",
              "[5 rows x 74 columns]"
            ]
          },
          "execution_count": 11,
          "metadata": {},
          "output_type": "execute_result"
        }
      ],
      "source": [
        "df.head()"
      ]
    },
    {
      "cell_type": "code",
      "execution_count": 12,
      "metadata": {
        "colab": {
          "base_uri": "https://localhost:8080/"
        },
        "id": "njK_2Ga_kUoQ",
        "outputId": "161235c7-4411-4b1c-a25c-acae7cf84938"
      },
      "outputs": [
        {
          "name": "stdout",
          "output_type": "stream",
          "text": [
            "<class 'pandas.core.frame.DataFrame'>\n",
            "RangeIndex: 282 entries, 0 to 281\n",
            "Data columns (total 74 columns):\n",
            " #   Column  Non-Null Count  Dtype  \n",
            "---  ------  --------------  -----  \n",
            " 0   1       282 non-null    float64\n",
            " 1   2       282 non-null    float64\n",
            " 2   3       282 non-null    float64\n",
            " 3   4       0 non-null      float64\n",
            " 4   5       0 non-null      float64\n",
            " 5   6       0 non-null      float64\n",
            " 6   7       0 non-null      float64\n",
            " 7   8       282 non-null    float64\n",
            " 8   9       282 non-null    float64\n",
            " 9   10      282 non-null    float64\n",
            " 10  11      282 non-null    float64\n",
            " 11  12      0 non-null      float64\n",
            " 12  13      277 non-null    float64\n",
            " 13  14      277 non-null    float64\n",
            " 14  15      282 non-null    float64\n",
            " 15  16      23 non-null     float64\n",
            " 16  17      282 non-null    float64\n",
            " 17  18      282 non-null    float64\n",
            " 18  19      282 non-null    float64\n",
            " 19  20      282 non-null    float64\n",
            " 20  21      282 non-null    float64\n",
            " 21  22      280 non-null    float64\n",
            " 22  23      280 non-null    float64\n",
            " 23  24      280 non-null    float64\n",
            " 24  25      280 non-null    float64\n",
            " 25  26      280 non-null    float64\n",
            " 26  27      282 non-null    float64\n",
            " 27  28      282 non-null    float64\n",
            " 28  29      213 non-null    float64\n",
            " 29  30      282 non-null    float64\n",
            " 30  31      282 non-null    float64\n",
            " 31  32      282 non-null    float64\n",
            " 32  33      282 non-null    float64\n",
            " 33  34      282 non-null    float64\n",
            " 34  35      282 non-null    float64\n",
            " 35  36      282 non-null    float64\n",
            " 36  37      282 non-null    float64\n",
            " 37  38      282 non-null    float64\n",
            " 38  39      282 non-null    float64\n",
            " 39  40      282 non-null    float64\n",
            " 40  41      0 non-null      float64\n",
            " 41  42      282 non-null    float64\n",
            " 42  43      280 non-null    float64\n",
            " 43  44      0 non-null      float64\n",
            " 44  45      0 non-null      float64\n",
            " 45  46      0 non-null      float64\n",
            " 46  47      0 non-null      float64\n",
            " 47  48      0 non-null      float64\n",
            " 48  49      0 non-null      float64\n",
            " 49  50      280 non-null    float64\n",
            " 50  51      0 non-null      float64\n",
            " 51  52      0 non-null      float64\n",
            " 52  53      0 non-null      float64\n",
            " 53  54      282 non-null    float64\n",
            " 54  55      282 non-null    float64\n",
            " 55  56      282 non-null    float64\n",
            " 56  57      282 non-null    float64\n",
            " 57  58      282 non-null    float64\n",
            " 58  59      282 non-null    float64\n",
            " 59  60      282 non-null    float64\n",
            " 60  61      0 non-null      float64\n",
            " 61  62      282 non-null    float64\n",
            " 62  63      0 non-null      float64\n",
            " 63  64      282 non-null    float64\n",
            " 64  65      0 non-null      float64\n",
            " 65  66      282 non-null    float64\n",
            " 66  67      282 non-null    float64\n",
            " 67  68      282 non-null    float64\n",
            " 68  69      282 non-null    float64\n",
            " 69  70      282 non-null    float64\n",
            " 70  71      282 non-null    float64\n",
            " 71  72      282 non-null    float64\n",
            " 72  73      0 non-null      float64\n",
            " 73  74      0 non-null      float64\n",
            "dtypes: float64(74)\n",
            "memory usage: 163.2 KB\n"
          ]
        }
      ],
      "source": [
        "df.info()"
      ]
    },
    {
      "cell_type": "markdown",
      "metadata": {
        "id": "zDuYx2hUkZ_4"
      },
      "source": [
        "# 4. Menentukan Object Data"
      ]
    },
    {
      "cell_type": "code",
      "execution_count": 13,
      "metadata": {
        "colab": {
          "base_uri": "https://localhost:8080/",
          "height": 206
        },
        "id": "fUWbnlQBkY4f",
        "outputId": "f43eb4ee-c121-43f9-a1aa-920ee8310ceb"
      },
      "outputs": [
        {
          "data": {
            "text/html": [
              "<div>\n",
              "<style scoped>\n",
              "    .dataframe tbody tr th:only-of-type {\n",
              "        vertical-align: middle;\n",
              "    }\n",
              "\n",
              "    .dataframe tbody tr th {\n",
              "        vertical-align: top;\n",
              "    }\n",
              "\n",
              "    .dataframe thead th {\n",
              "        text-align: right;\n",
              "    }\n",
              "</style>\n",
              "<table border=\"1\" class=\"dataframe\">\n",
              "  <thead>\n",
              "    <tr style=\"text-align: right;\">\n",
              "      <th></th>\n",
              "      <th>2</th>\n",
              "      <th>3</th>\n",
              "      <th>8</th>\n",
              "      <th>9</th>\n",
              "      <th>11</th>\n",
              "      <th>15</th>\n",
              "      <th>18</th>\n",
              "      <th>31</th>\n",
              "      <th>37</th>\n",
              "      <th>39</th>\n",
              "      <th>40</th>\n",
              "      <th>43</th>\n",
              "      <th>50</th>\n",
              "      <th>57</th>\n",
              "    </tr>\n",
              "  </thead>\n",
              "  <tbody>\n",
              "    <tr>\n",
              "      <th>0</th>\n",
              "      <td>63.0</td>\n",
              "      <td>1.0</td>\n",
              "      <td>1.0</td>\n",
              "      <td>145.0</td>\n",
              "      <td>233.0</td>\n",
              "      <td>1.0</td>\n",
              "      <td>2.0</td>\n",
              "      <td>150.0</td>\n",
              "      <td>0.0</td>\n",
              "      <td>2.3</td>\n",
              "      <td>3.0</td>\n",
              "      <td>0.0</td>\n",
              "      <td>6.0</td>\n",
              "      <td>0.0</td>\n",
              "    </tr>\n",
              "    <tr>\n",
              "      <th>1</th>\n",
              "      <td>67.0</td>\n",
              "      <td>1.0</td>\n",
              "      <td>4.0</td>\n",
              "      <td>160.0</td>\n",
              "      <td>286.0</td>\n",
              "      <td>0.0</td>\n",
              "      <td>2.0</td>\n",
              "      <td>108.0</td>\n",
              "      <td>1.0</td>\n",
              "      <td>1.5</td>\n",
              "      <td>2.0</td>\n",
              "      <td>3.0</td>\n",
              "      <td>3.0</td>\n",
              "      <td>2.0</td>\n",
              "    </tr>\n",
              "    <tr>\n",
              "      <th>2</th>\n",
              "      <td>67.0</td>\n",
              "      <td>1.0</td>\n",
              "      <td>4.0</td>\n",
              "      <td>120.0</td>\n",
              "      <td>229.0</td>\n",
              "      <td>0.0</td>\n",
              "      <td>2.0</td>\n",
              "      <td>129.0</td>\n",
              "      <td>1.0</td>\n",
              "      <td>2.6</td>\n",
              "      <td>2.0</td>\n",
              "      <td>2.0</td>\n",
              "      <td>7.0</td>\n",
              "      <td>1.0</td>\n",
              "    </tr>\n",
              "    <tr>\n",
              "      <th>3</th>\n",
              "      <td>37.0</td>\n",
              "      <td>1.0</td>\n",
              "      <td>3.0</td>\n",
              "      <td>130.0</td>\n",
              "      <td>250.0</td>\n",
              "      <td>0.0</td>\n",
              "      <td>0.0</td>\n",
              "      <td>187.0</td>\n",
              "      <td>0.0</td>\n",
              "      <td>3.5</td>\n",
              "      <td>3.0</td>\n",
              "      <td>0.0</td>\n",
              "      <td>3.0</td>\n",
              "      <td>0.0</td>\n",
              "    </tr>\n",
              "    <tr>\n",
              "      <th>4</th>\n",
              "      <td>41.0</td>\n",
              "      <td>0.0</td>\n",
              "      <td>2.0</td>\n",
              "      <td>130.0</td>\n",
              "      <td>204.0</td>\n",
              "      <td>0.0</td>\n",
              "      <td>2.0</td>\n",
              "      <td>172.0</td>\n",
              "      <td>0.0</td>\n",
              "      <td>1.4</td>\n",
              "      <td>1.0</td>\n",
              "      <td>0.0</td>\n",
              "      <td>3.0</td>\n",
              "      <td>0.0</td>\n",
              "    </tr>\n",
              "  </tbody>\n",
              "</table>\n",
              "</div>"
            ],
            "text/plain": [
              "     2    3    8      9      11   15   18     31   37   39   40   43   50   57\n",
              "0  63.0  1.0  1.0  145.0  233.0  1.0  2.0  150.0  0.0  2.3  3.0  0.0  6.0  0.0\n",
              "1  67.0  1.0  4.0  160.0  286.0  0.0  2.0  108.0  1.0  1.5  2.0  3.0  3.0  2.0\n",
              "2  67.0  1.0  4.0  120.0  229.0  0.0  2.0  129.0  1.0  2.6  2.0  2.0  7.0  1.0\n",
              "3  37.0  1.0  3.0  130.0  250.0  0.0  0.0  187.0  0.0  3.5  3.0  0.0  3.0  0.0\n",
              "4  41.0  0.0  2.0  130.0  204.0  0.0  2.0  172.0  0.0  1.4  1.0  0.0  3.0  0.0"
            ]
          },
          "execution_count": 13,
          "metadata": {},
          "output_type": "execute_result"
        }
      ],
      "source": [
        "# Memilih 14 fitur yang akan digunakan sesuai dengan deskripsi dataset\n",
        "\n",
        "df_selected = df.iloc[:, [1, 2, 7,8,10,14,17,30,36,38,39,42,49,56]]\n",
        "\n",
        "\n",
        "df_selected.head()"
      ]
    },
    {
      "cell_type": "code",
      "execution_count": 14,
      "metadata": {
        "colab": {
          "base_uri": "https://localhost:8080/"
        },
        "id": "NsV0G4YWk21A",
        "outputId": "3e469b35-2fc2-4868-fd06-80542acba379"
      },
      "outputs": [
        {
          "name": "stdout",
          "output_type": "stream",
          "text": [
            "<class 'pandas.core.frame.DataFrame'>\n",
            "RangeIndex: 282 entries, 0 to 281\n",
            "Data columns (total 14 columns):\n",
            " #   Column  Non-Null Count  Dtype  \n",
            "---  ------  --------------  -----  \n",
            " 0   2       282 non-null    float64\n",
            " 1   3       282 non-null    float64\n",
            " 2   8       282 non-null    float64\n",
            " 3   9       282 non-null    float64\n",
            " 4   11      282 non-null    float64\n",
            " 5   15      282 non-null    float64\n",
            " 6   18      282 non-null    float64\n",
            " 7   31      282 non-null    float64\n",
            " 8   37      282 non-null    float64\n",
            " 9   39      282 non-null    float64\n",
            " 10  40      282 non-null    float64\n",
            " 11  43      280 non-null    float64\n",
            " 12  50      280 non-null    float64\n",
            " 13  57      282 non-null    float64\n",
            "dtypes: float64(14)\n",
            "memory usage: 31.0 KB\n"
          ]
        }
      ],
      "source": [
        "df_selected.info()"
      ]
    },
    {
      "cell_type": "code",
      "execution_count": 15,
      "metadata": {
        "colab": {
          "base_uri": "https://localhost:8080/"
        },
        "id": "HzrA2Hqsk6p4",
        "outputId": "bd28de41-f66c-4421-be52-2dabe4f20143"
      },
      "outputs": [
        {
          "name": "stderr",
          "output_type": "stream",
          "text": [
            "C:\\Users\\wilda\\AppData\\Local\\Temp\\ipykernel_5532\\1654992084.py:20: SettingWithCopyWarning: \n",
            "A value is trying to be set on a copy of a slice from a DataFrame\n",
            "\n",
            "See the caveats in the documentation: https://pandas.pydata.org/pandas-docs/stable/user_guide/indexing.html#returning-a-view-versus-a-copy\n",
            "  df_selected.rename(columns=column_mapping, inplace=True)\n"
          ]
        }
      ],
      "source": [
        "# mengganti nama kolom sesuai dengan 14 nama kolom yang ada pada deskripsi dataset\n",
        "\n",
        "column_mapping = {\n",
        "  2: 'age',\n",
        "  3: 'sex',\n",
        "  8: 'cp',\n",
        "  9: 'trestbps',\n",
        "  11: 'chol',\n",
        "  15: 'fbs',\n",
        "  18: 'restecg',\n",
        "  31: 'thalach',\n",
        "  37: 'exang',\n",
        "  39: 'oldpeak',\n",
        "  40: 'slope',\n",
        "  43: 'ca',\n",
        "  50: 'thal',\n",
        "  57: 'target'\n",
        "}\n",
        "\n",
        "df_selected.rename(columns=column_mapping, inplace=True)\n"
      ]
    },
    {
      "cell_type": "code",
      "execution_count": 16,
      "metadata": {
        "colab": {
          "base_uri": "https://localhost:8080/"
        },
        "id": "F64ulyMXlD5I",
        "outputId": "3b92381f-8d82-4023-c4d3-aa022a36187b"
      },
      "outputs": [
        {
          "name": "stdout",
          "output_type": "stream",
          "text": [
            "<class 'pandas.core.frame.DataFrame'>\n",
            "RangeIndex: 282 entries, 0 to 281\n",
            "Data columns (total 14 columns):\n",
            " #   Column    Non-Null Count  Dtype  \n",
            "---  ------    --------------  -----  \n",
            " 0   age       282 non-null    float64\n",
            " 1   sex       282 non-null    float64\n",
            " 2   cp        282 non-null    float64\n",
            " 3   trestbps  282 non-null    float64\n",
            " 4   chol      282 non-null    float64\n",
            " 5   fbs       282 non-null    float64\n",
            " 6   restecg   282 non-null    float64\n",
            " 7   thalach   282 non-null    float64\n",
            " 8   exang     282 non-null    float64\n",
            " 9   oldpeak   282 non-null    float64\n",
            " 10  slope     282 non-null    float64\n",
            " 11  ca        280 non-null    float64\n",
            " 12  thal      280 non-null    float64\n",
            " 13  target    282 non-null    float64\n",
            "dtypes: float64(14)\n",
            "memory usage: 31.0 KB\n"
          ]
        }
      ],
      "source": [
        "df_selected.info()"
      ]
    },
    {
      "cell_type": "code",
      "execution_count": 17,
      "metadata": {
        "colab": {
          "base_uri": "https://localhost:8080/"
        },
        "id": "zF1JfmAblHvf",
        "outputId": "f46dd5c9-ea15-431f-c1df-eef868245f44"
      },
      "outputs": [
        {
          "data": {
            "text/plain": [
              "age   sex  cp   trestbps  chol   fbs  restecg  thalach  exang  oldpeak  slope  ca   thal  target\n",
              "29.0  1.0  2.0  130.0     204.0  0.0  2.0      202.0    0.0    0.0      1.0    0.0  3.0   0.0       1\n",
              "59.0  1.0  1.0  178.0     270.0  0.0  2.0      145.0    0.0    4.2      3.0    0.0  7.0   0.0       1\n",
              "           4.0  138.0     271.0  0.0  2.0      182.0    0.0    0.0      1.0    0.0  3.0   0.0       1\n",
              "                135.0     234.0  0.0  0.0      161.0    0.0    0.5      2.0    0.0  7.0   0.0       1\n",
              "                110.0     239.0  0.0  2.0      142.0    1.0    1.2      2.0    1.0  7.0   2.0       1\n",
              "                                                                                                   ..\n",
              "51.0  1.0  4.0  140.0     298.0  0.0  0.0      122.0    1.0    4.2      2.0    3.0  7.0   3.0       1\n",
              "                          299.0  0.0  0.0      173.0    1.0    1.6      1.0    0.0  7.0   1.0       1\n",
              "52.0  0.0  3.0  136.0     196.0  0.0  2.0      169.0    0.0    0.1      2.0    0.0  3.0   0.0       1\n",
              "      1.0  1.0  118.0     186.0  0.0  2.0      190.0    0.0    0.0      2.0    0.0  6.0   0.0       1\n",
              "77.0  1.0  4.0  125.0     304.0  0.0  2.0      162.0    1.0    0.0      1.0    3.0  3.0   4.0       1\n",
              "Name: count, Length: 278, dtype: int64"
            ]
          },
          "execution_count": 17,
          "metadata": {},
          "output_type": "execute_result"
        }
      ],
      "source": [
        "# menghitung jumlah fitur pada dataset\n",
        "\n",
        "df_selected.value_counts()\n"
      ]
    },
    {
      "cell_type": "markdown",
      "metadata": {
        "id": "4XMAq4qnlQn3"
      },
      "source": [
        "# 5. Membersihkan Data"
      ]
    },
    {
      "cell_type": "code",
      "execution_count": 18,
      "metadata": {
        "colab": {
          "base_uri": "https://localhost:8080/"
        },
        "id": "RMawNx0PlS8P",
        "outputId": "00c09e3b-8378-4791-fb95-0da3da170b63"
      },
      "outputs": [
        {
          "data": {
            "text/plain": [
              "age         0\n",
              "sex         0\n",
              "cp          0\n",
              "trestbps    0\n",
              "chol        0\n",
              "fbs         0\n",
              "restecg     0\n",
              "thalach     0\n",
              "exang       0\n",
              "oldpeak     0\n",
              "slope       0\n",
              "ca          2\n",
              "thal        2\n",
              "target      0\n",
              "dtype: int64"
            ]
          },
          "execution_count": 18,
          "metadata": {},
          "output_type": "execute_result"
        }
      ],
      "source": [
        "# Sebelum melakukan pemodelan dilakukan pembersihan data agar model yang dihasilkan lebih akurat menghitung jumlah null values yang ada diddalam dataset\n",
        "df_selected.isnull().sum()"
      ]
    },
    {
      "cell_type": "code",
      "execution_count": 19,
      "metadata": {
        "colab": {
          "base_uri": "https://localhost:8080/"
        },
        "id": "4-cFMKz7lk6w",
        "outputId": "692d7cfe-91ca-41cc-8abf-e8ecc835d8c2"
      },
      "outputs": [
        {
          "data": {
            "text/plain": [
              "age         0\n",
              "sex         0\n",
              "cp          0\n",
              "trestbps    0\n",
              "chol        0\n",
              "fbs         0\n",
              "restecg     0\n",
              "thalach     0\n",
              "exang       0\n",
              "oldpeak     0\n",
              "target      0\n",
              "dtype: int64"
            ]
          },
          "execution_count": 19,
          "metadata": {},
          "output_type": "execute_result"
        }
      ],
      "source": [
        "columns_to_drop = ['ca', 'slope','thal']\n",
        "df_selected = df_selected.drop(columns_to_drop, axis=1)\n",
        "\n",
        "df_selected.isnull().sum()"
      ]
    },
    {
      "cell_type": "markdown",
      "metadata": {
        "id": "zjaeQz4rmiZw"
      },
      "source": [
        "Dikarenakan masih ada nilai null dibeberapa kolom fitur maka akan dilakukan pengisian nilai null menggunakan nilai mean di setiap kolomnya"
      ]
    },
    {
      "cell_type": "code",
      "execution_count": 20,
      "metadata": {
        "id": "J9uvjWukmg8I"
      },
      "outputs": [],
      "source": [
        "meanTBPS = df_selected['trestbps'].dropna()\n",
        "meanChol = df_selected['chol'].dropna()\n",
        "meanfbs = df_selected['fbs'].dropna()\n",
        "meanRestCG = df_selected['restecg'].dropna()\n",
        "meanthalach = df_selected['thalach'].dropna()\n",
        "meanexang = df_selected['exang'].dropna()\n",
        "\n",
        "meanTBPS = meanTBPS.astype(float)\n",
        "meanChol = meanChol.astype(float)\n",
        "meanfbs = meanfbs.astype(float)\n",
        "meanthalach = meanthalach.astype(float)\n",
        "meanexang = meanexang.astype(float)\n",
        "meanRestCG = meanRestCG.astype(float)\n",
        "\n",
        "meanTBPS = round(meanTBPS.mean())\n",
        "meanChol = round(meanChol.mean())\n",
        "meanfbs = round(meanfbs.mean())\n",
        "meanthalach = round(meanthalach.mean())\n",
        "meanexang = round(meanexang.mean())\n",
        "meanRestCG = round(meanRestCG.mean())"
      ]
    },
    {
      "cell_type": "markdown",
      "metadata": {
        "id": "5dFLc00Tm2-Q"
      },
      "source": [
        "mengubah nilai null menjadi nilai mean yang sudah ditentukan sebelumnya"
      ]
    },
    {
      "cell_type": "code",
      "execution_count": 21,
      "metadata": {
        "colab": {
          "base_uri": "https://localhost:8080/"
        },
        "id": "nbQNi71Am3pH",
        "outputId": "ec133637-87e2-48e7-f8e1-1c37adb81bd4"
      },
      "outputs": [
        {
          "name": "stdout",
          "output_type": "stream",
          "text": [
            "<class 'pandas.core.frame.DataFrame'>\n",
            "RangeIndex: 282 entries, 0 to 281\n",
            "Data columns (total 11 columns):\n",
            " #   Column    Non-Null Count  Dtype  \n",
            "---  ------    --------------  -----  \n",
            " 0   age       282 non-null    float64\n",
            " 1   sex       282 non-null    float64\n",
            " 2   cp        282 non-null    float64\n",
            " 3   trestbps  282 non-null    float64\n",
            " 4   chol      282 non-null    float64\n",
            " 5   fbs       282 non-null    float64\n",
            " 6   restecg   282 non-null    float64\n",
            " 7   thalach   282 non-null    float64\n",
            " 8   exang     282 non-null    float64\n",
            " 9   oldpeak   282 non-null    float64\n",
            " 10  target    282 non-null    float64\n",
            "dtypes: float64(11)\n",
            "memory usage: 24.4 KB\n"
          ]
        }
      ],
      "source": [
        "fill_values = {'trestbps': meanTBPS, 'chol': meanChol, 'fbs': meanfbs,'thalach':meanthalach,'exang':meanexang,'restecg':meanRestCG}\n",
        "dfClean = df_selected.fillna(value=fill_values)\n",
        "dfClean.info()"
      ]
    },
    {
      "cell_type": "code",
      "execution_count": 22,
      "metadata": {
        "colab": {
          "base_uri": "https://localhost:8080/"
        },
        "id": "riesC9PPnJo7",
        "outputId": "0e5c95b8-5f68-4b12-b49d-00e1e071f68a"
      },
      "outputs": [
        {
          "data": {
            "text/plain": [
              "age         0\n",
              "sex         0\n",
              "cp          0\n",
              "trestbps    0\n",
              "chol        0\n",
              "fbs         0\n",
              "restecg     0\n",
              "thalach     0\n",
              "exang       0\n",
              "oldpeak     0\n",
              "target      0\n",
              "dtype: int64"
            ]
          },
          "execution_count": 22,
          "metadata": {},
          "output_type": "execute_result"
        }
      ],
      "source": [
        "dfClean.isnull().sum()"
      ]
    },
    {
      "cell_type": "markdown",
      "metadata": {
        "id": "ITo2GDyYnMio"
      },
      "source": [
        "melalukan pengecekan terhadap duplikaksi data"
      ]
    },
    {
      "cell_type": "code",
      "execution_count": 23,
      "metadata": {
        "colab": {
          "base_uri": "https://localhost:8080/",
          "height": 81
        },
        "id": "rx4TnGfhnN8w",
        "outputId": "cf1db43b-95d7-412f-9fb5-4a7ac7a659ac"
      },
      "outputs": [
        {
          "data": {
            "text/html": [
              "<div>\n",
              "<style scoped>\n",
              "    .dataframe tbody tr th:only-of-type {\n",
              "        vertical-align: middle;\n",
              "    }\n",
              "\n",
              "    .dataframe tbody tr th {\n",
              "        vertical-align: top;\n",
              "    }\n",
              "\n",
              "    .dataframe thead th {\n",
              "        text-align: right;\n",
              "    }\n",
              "</style>\n",
              "<table border=\"1\" class=\"dataframe\">\n",
              "  <thead>\n",
              "    <tr style=\"text-align: right;\">\n",
              "      <th></th>\n",
              "      <th>age</th>\n",
              "      <th>sex</th>\n",
              "      <th>cp</th>\n",
              "      <th>trestbps</th>\n",
              "      <th>chol</th>\n",
              "      <th>fbs</th>\n",
              "      <th>restecg</th>\n",
              "      <th>thalach</th>\n",
              "      <th>exang</th>\n",
              "      <th>oldpeak</th>\n",
              "      <th>target</th>\n",
              "    </tr>\n",
              "  </thead>\n",
              "  <tbody>\n",
              "  </tbody>\n",
              "</table>\n",
              "</div>"
            ],
            "text/plain": [
              "Empty DataFrame\n",
              "Columns: [age, sex, cp, trestbps, chol, fbs, restecg, thalach, exang, oldpeak, target]\n",
              "Index: []"
            ]
          },
          "execution_count": 23,
          "metadata": {},
          "output_type": "execute_result"
        }
      ],
      "source": [
        "duplicate_rows = dfClean.duplicated()\n",
        "dfClean[duplicate_rows]"
      ]
    },
    {
      "cell_type": "code",
      "execution_count": 24,
      "metadata": {
        "colab": {
          "base_uri": "https://localhost:8080/",
          "height": 129
        },
        "id": "OLbWARs9nP9J",
        "outputId": "49d2bcaf-8591-41e9-aa25-34a3a5c689a5"
      },
      "outputs": [
        {
          "name": "stdout",
          "output_type": "stream",
          "text": [
            "All Duplicate Rows:\n"
          ]
        },
        {
          "data": {
            "text/html": [
              "<div>\n",
              "<style scoped>\n",
              "    .dataframe tbody tr th:only-of-type {\n",
              "        vertical-align: middle;\n",
              "    }\n",
              "\n",
              "    .dataframe tbody tr th {\n",
              "        vertical-align: top;\n",
              "    }\n",
              "\n",
              "    .dataframe thead th {\n",
              "        text-align: right;\n",
              "    }\n",
              "</style>\n",
              "<table border=\"1\" class=\"dataframe\">\n",
              "  <thead>\n",
              "    <tr style=\"text-align: right;\">\n",
              "      <th></th>\n",
              "      <th>age</th>\n",
              "      <th>sex</th>\n",
              "      <th>cp</th>\n",
              "      <th>trestbps</th>\n",
              "      <th>chol</th>\n",
              "      <th>fbs</th>\n",
              "      <th>restecg</th>\n",
              "      <th>thalach</th>\n",
              "      <th>exang</th>\n",
              "      <th>oldpeak</th>\n",
              "      <th>target</th>\n",
              "    </tr>\n",
              "  </thead>\n",
              "  <tbody>\n",
              "  </tbody>\n",
              "</table>\n",
              "</div>"
            ],
            "text/plain": [
              "Empty DataFrame\n",
              "Columns: [age, sex, cp, trestbps, chol, fbs, restecg, thalach, exang, oldpeak, target]\n",
              "Index: []"
            ]
          },
          "execution_count": 24,
          "metadata": {},
          "output_type": "execute_result"
        }
      ],
      "source": [
        "print(\"All Duplicate Rows:\")\n",
        "dfClean[dfClean.duplicated(keep=False)]"
      ]
    },
    {
      "cell_type": "markdown",
      "metadata": {
        "id": "sv1iDRH4nV8Y"
      },
      "source": [
        "Menghapus data yang memiliki duplikat"
      ]
    },
    {
      "cell_type": "code",
      "execution_count": 25,
      "metadata": {
        "colab": {
          "base_uri": "https://localhost:8080/",
          "height": 70
        },
        "id": "t9RZjSJHnWZS",
        "outputId": "b6279e46-aa3c-40c2-9490-a9cb76cf8eb8"
      },
      "outputs": [
        {
          "name": "stdout",
          "output_type": "stream",
          "text": [
            "All Duplicate Rows:\n"
          ]
        },
        {
          "data": {
            "text/html": [
              "<div>\n",
              "<style scoped>\n",
              "    .dataframe tbody tr th:only-of-type {\n",
              "        vertical-align: middle;\n",
              "    }\n",
              "\n",
              "    .dataframe tbody tr th {\n",
              "        vertical-align: top;\n",
              "    }\n",
              "\n",
              "    .dataframe thead th {\n",
              "        text-align: right;\n",
              "    }\n",
              "</style>\n",
              "<table border=\"1\" class=\"dataframe\">\n",
              "  <thead>\n",
              "    <tr style=\"text-align: right;\">\n",
              "      <th></th>\n",
              "      <th>age</th>\n",
              "      <th>sex</th>\n",
              "      <th>cp</th>\n",
              "      <th>trestbps</th>\n",
              "      <th>chol</th>\n",
              "      <th>fbs</th>\n",
              "      <th>restecg</th>\n",
              "      <th>thalach</th>\n",
              "      <th>exang</th>\n",
              "      <th>oldpeak</th>\n",
              "      <th>target</th>\n",
              "    </tr>\n",
              "  </thead>\n",
              "  <tbody>\n",
              "  </tbody>\n",
              "</table>\n",
              "</div>"
            ],
            "text/plain": [
              "Empty DataFrame\n",
              "Columns: [age, sex, cp, trestbps, chol, fbs, restecg, thalach, exang, oldpeak, target]\n",
              "Index: []"
            ]
          },
          "execution_count": 25,
          "metadata": {},
          "output_type": "execute_result"
        }
      ],
      "source": [
        "dfClean = dfClean.drop_duplicates()\n",
        "print(\"All Duplicate Rows:\")\n",
        "dfClean[dfClean.duplicated(keep=False)]\n"
      ]
    },
    {
      "cell_type": "code",
      "execution_count": 26,
      "metadata": {
        "colab": {
          "base_uri": "https://localhost:8080/",
          "height": 206
        },
        "id": "LCadndOwne3p",
        "outputId": "610d80df-46e4-4088-b760-93bd7837d722"
      },
      "outputs": [
        {
          "data": {
            "text/html": [
              "<div>\n",
              "<style scoped>\n",
              "    .dataframe tbody tr th:only-of-type {\n",
              "        vertical-align: middle;\n",
              "    }\n",
              "\n",
              "    .dataframe tbody tr th {\n",
              "        vertical-align: top;\n",
              "    }\n",
              "\n",
              "    .dataframe thead th {\n",
              "        text-align: right;\n",
              "    }\n",
              "</style>\n",
              "<table border=\"1\" class=\"dataframe\">\n",
              "  <thead>\n",
              "    <tr style=\"text-align: right;\">\n",
              "      <th></th>\n",
              "      <th>age</th>\n",
              "      <th>sex</th>\n",
              "      <th>cp</th>\n",
              "      <th>trestbps</th>\n",
              "      <th>chol</th>\n",
              "      <th>fbs</th>\n",
              "      <th>restecg</th>\n",
              "      <th>thalach</th>\n",
              "      <th>exang</th>\n",
              "      <th>oldpeak</th>\n",
              "      <th>target</th>\n",
              "    </tr>\n",
              "  </thead>\n",
              "  <tbody>\n",
              "    <tr>\n",
              "      <th>0</th>\n",
              "      <td>63.0</td>\n",
              "      <td>1.0</td>\n",
              "      <td>1.0</td>\n",
              "      <td>145.0</td>\n",
              "      <td>233.0</td>\n",
              "      <td>1.0</td>\n",
              "      <td>2.0</td>\n",
              "      <td>150.0</td>\n",
              "      <td>0.0</td>\n",
              "      <td>2.3</td>\n",
              "      <td>0.0</td>\n",
              "    </tr>\n",
              "    <tr>\n",
              "      <th>1</th>\n",
              "      <td>67.0</td>\n",
              "      <td>1.0</td>\n",
              "      <td>4.0</td>\n",
              "      <td>160.0</td>\n",
              "      <td>286.0</td>\n",
              "      <td>0.0</td>\n",
              "      <td>2.0</td>\n",
              "      <td>108.0</td>\n",
              "      <td>1.0</td>\n",
              "      <td>1.5</td>\n",
              "      <td>2.0</td>\n",
              "    </tr>\n",
              "    <tr>\n",
              "      <th>2</th>\n",
              "      <td>67.0</td>\n",
              "      <td>1.0</td>\n",
              "      <td>4.0</td>\n",
              "      <td>120.0</td>\n",
              "      <td>229.0</td>\n",
              "      <td>0.0</td>\n",
              "      <td>2.0</td>\n",
              "      <td>129.0</td>\n",
              "      <td>1.0</td>\n",
              "      <td>2.6</td>\n",
              "      <td>1.0</td>\n",
              "    </tr>\n",
              "    <tr>\n",
              "      <th>3</th>\n",
              "      <td>37.0</td>\n",
              "      <td>1.0</td>\n",
              "      <td>3.0</td>\n",
              "      <td>130.0</td>\n",
              "      <td>250.0</td>\n",
              "      <td>0.0</td>\n",
              "      <td>0.0</td>\n",
              "      <td>187.0</td>\n",
              "      <td>0.0</td>\n",
              "      <td>3.5</td>\n",
              "      <td>0.0</td>\n",
              "    </tr>\n",
              "    <tr>\n",
              "      <th>4</th>\n",
              "      <td>41.0</td>\n",
              "      <td>0.0</td>\n",
              "      <td>2.0</td>\n",
              "      <td>130.0</td>\n",
              "      <td>204.0</td>\n",
              "      <td>0.0</td>\n",
              "      <td>2.0</td>\n",
              "      <td>172.0</td>\n",
              "      <td>0.0</td>\n",
              "      <td>1.4</td>\n",
              "      <td>0.0</td>\n",
              "    </tr>\n",
              "  </tbody>\n",
              "</table>\n",
              "</div>"
            ],
            "text/plain": [
              "    age  sex   cp  trestbps   chol  fbs  restecg  thalach  exang  oldpeak  \\\n",
              "0  63.0  1.0  1.0     145.0  233.0  1.0      2.0    150.0    0.0      2.3   \n",
              "1  67.0  1.0  4.0     160.0  286.0  0.0      2.0    108.0    1.0      1.5   \n",
              "2  67.0  1.0  4.0     120.0  229.0  0.0      2.0    129.0    1.0      2.6   \n",
              "3  37.0  1.0  3.0     130.0  250.0  0.0      0.0    187.0    0.0      3.5   \n",
              "4  41.0  0.0  2.0     130.0  204.0  0.0      2.0    172.0    0.0      1.4   \n",
              "\n",
              "   target  \n",
              "0     0.0  \n",
              "1     2.0  \n",
              "2     1.0  \n",
              "3     0.0  \n",
              "4     0.0  "
            ]
          },
          "execution_count": 26,
          "metadata": {},
          "output_type": "execute_result"
        }
      ],
      "source": [
        "dfClean.head()"
      ]
    },
    {
      "cell_type": "code",
      "execution_count": 27,
      "metadata": {
        "colab": {
          "base_uri": "https://localhost:8080/"
        },
        "id": "GCZHzQownguQ",
        "outputId": "32c27150-8d93-4179-ced5-a78d1c16b82a"
      },
      "outputs": [
        {
          "data": {
            "text/plain": [
              "target\n",
              "0.0    157\n",
              "1.0     50\n",
              "3.0     32\n",
              "2.0     31\n",
              "4.0     12\n",
              "Name: count, dtype: int64"
            ]
          },
          "execution_count": 27,
          "metadata": {},
          "output_type": "execute_result"
        }
      ],
      "source": [
        "dfClean['target'].value_counts()"
      ]
    },
    {
      "cell_type": "code",
      "execution_count": 28,
      "metadata": {
        "id": "nw-hg9plnis4"
      },
      "outputs": [],
      "source": [
        "import seaborn as sns\n",
        "import matplotlib.pyplot as plt\n"
      ]
    },
    {
      "cell_type": "markdown",
      "metadata": {
        "id": "4-ekMJgWnk6B"
      },
      "source": [
        "Mencari korelasi antar fitur"
      ]
    },
    {
      "cell_type": "code",
      "execution_count": 29,
      "metadata": {
        "colab": {
          "base_uri": "https://localhost:8080/",
          "height": 414
        },
        "id": "fMB7dm4Onmog",
        "outputId": "13d653ab-0909-498c-8fee-48f57b222ed2"
      },
      "outputs": [
        {
          "data": {
            "text/html": [
              "<div>\n",
              "<style scoped>\n",
              "    .dataframe tbody tr th:only-of-type {\n",
              "        vertical-align: middle;\n",
              "    }\n",
              "\n",
              "    .dataframe tbody tr th {\n",
              "        vertical-align: top;\n",
              "    }\n",
              "\n",
              "    .dataframe thead th {\n",
              "        text-align: right;\n",
              "    }\n",
              "</style>\n",
              "<table border=\"1\" class=\"dataframe\">\n",
              "  <thead>\n",
              "    <tr style=\"text-align: right;\">\n",
              "      <th></th>\n",
              "      <th>age</th>\n",
              "      <th>sex</th>\n",
              "      <th>cp</th>\n",
              "      <th>trestbps</th>\n",
              "      <th>chol</th>\n",
              "      <th>fbs</th>\n",
              "      <th>restecg</th>\n",
              "      <th>thalach</th>\n",
              "      <th>exang</th>\n",
              "      <th>oldpeak</th>\n",
              "      <th>target</th>\n",
              "    </tr>\n",
              "  </thead>\n",
              "  <tbody>\n",
              "    <tr>\n",
              "      <th>age</th>\n",
              "      <td>1.000000</td>\n",
              "      <td>-0.091125</td>\n",
              "      <td>0.077383</td>\n",
              "      <td>0.274466</td>\n",
              "      <td>0.218295</td>\n",
              "      <td>0.104400</td>\n",
              "      <td>0.134438</td>\n",
              "      <td>-0.393266</td>\n",
              "      <td>0.087174</td>\n",
              "      <td>0.195740</td>\n",
              "      <td>0.210747</td>\n",
              "    </tr>\n",
              "    <tr>\n",
              "      <th>sex</th>\n",
              "      <td>-0.091125</td>\n",
              "      <td>1.000000</td>\n",
              "      <td>0.022619</td>\n",
              "      <td>-0.058920</td>\n",
              "      <td>-0.189397</td>\n",
              "      <td>0.054396</td>\n",
              "      <td>0.032665</td>\n",
              "      <td>-0.054792</td>\n",
              "      <td>0.189095</td>\n",
              "      <td>0.103771</td>\n",
              "      <td>0.239516</td>\n",
              "    </tr>\n",
              "    <tr>\n",
              "      <th>cp</th>\n",
              "      <td>0.077383</td>\n",
              "      <td>0.022619</td>\n",
              "      <td>1.000000</td>\n",
              "      <td>-0.070886</td>\n",
              "      <td>0.098889</td>\n",
              "      <td>-0.071550</td>\n",
              "      <td>0.061007</td>\n",
              "      <td>-0.318512</td>\n",
              "      <td>0.364757</td>\n",
              "      <td>0.173221</td>\n",
              "      <td>0.383891</td>\n",
              "    </tr>\n",
              "    <tr>\n",
              "      <th>trestbps</th>\n",
              "      <td>0.274466</td>\n",
              "      <td>-0.058920</td>\n",
              "      <td>-0.070886</td>\n",
              "      <td>1.000000</td>\n",
              "      <td>0.157118</td>\n",
              "      <td>0.142902</td>\n",
              "      <td>0.128652</td>\n",
              "      <td>-0.029739</td>\n",
              "      <td>0.061072</td>\n",
              "      <td>0.197026</td>\n",
              "      <td>0.151776</td>\n",
              "    </tr>\n",
              "    <tr>\n",
              "      <th>chol</th>\n",
              "      <td>0.218295</td>\n",
              "      <td>-0.189397</td>\n",
              "      <td>0.098889</td>\n",
              "      <td>0.157118</td>\n",
              "      <td>1.000000</td>\n",
              "      <td>0.019506</td>\n",
              "      <td>0.166490</td>\n",
              "      <td>-0.018392</td>\n",
              "      <td>0.088988</td>\n",
              "      <td>0.044771</td>\n",
              "      <td>0.098895</td>\n",
              "    </tr>\n",
              "    <tr>\n",
              "      <th>fbs</th>\n",
              "      <td>0.104400</td>\n",
              "      <td>0.054396</td>\n",
              "      <td>-0.071550</td>\n",
              "      <td>0.142902</td>\n",
              "      <td>0.019506</td>\n",
              "      <td>1.000000</td>\n",
              "      <td>0.054025</td>\n",
              "      <td>0.019948</td>\n",
              "      <td>0.027573</td>\n",
              "      <td>-0.024812</td>\n",
              "      <td>0.039690</td>\n",
              "    </tr>\n",
              "    <tr>\n",
              "      <th>restecg</th>\n",
              "      <td>0.134438</td>\n",
              "      <td>0.032665</td>\n",
              "      <td>0.061007</td>\n",
              "      <td>0.128652</td>\n",
              "      <td>0.166490</td>\n",
              "      <td>0.054025</td>\n",
              "      <td>1.000000</td>\n",
              "      <td>-0.082132</td>\n",
              "      <td>0.088781</td>\n",
              "      <td>0.107675</td>\n",
              "      <td>0.187365</td>\n",
              "    </tr>\n",
              "    <tr>\n",
              "      <th>thalach</th>\n",
              "      <td>-0.393266</td>\n",
              "      <td>-0.054792</td>\n",
              "      <td>-0.318512</td>\n",
              "      <td>-0.029739</td>\n",
              "      <td>-0.018392</td>\n",
              "      <td>0.019948</td>\n",
              "      <td>-0.082132</td>\n",
              "      <td>1.000000</td>\n",
              "      <td>-0.374316</td>\n",
              "      <td>-0.344748</td>\n",
              "      <td>-0.396194</td>\n",
              "    </tr>\n",
              "    <tr>\n",
              "      <th>exang</th>\n",
              "      <td>0.087174</td>\n",
              "      <td>0.189095</td>\n",
              "      <td>0.364757</td>\n",
              "      <td>0.061072</td>\n",
              "      <td>0.088988</td>\n",
              "      <td>0.027573</td>\n",
              "      <td>0.088781</td>\n",
              "      <td>-0.374316</td>\n",
              "      <td>1.000000</td>\n",
              "      <td>0.285568</td>\n",
              "      <td>0.398880</td>\n",
              "    </tr>\n",
              "    <tr>\n",
              "      <th>oldpeak</th>\n",
              "      <td>0.195740</td>\n",
              "      <td>0.103771</td>\n",
              "      <td>0.173221</td>\n",
              "      <td>0.197026</td>\n",
              "      <td>0.044771</td>\n",
              "      <td>-0.024812</td>\n",
              "      <td>0.107675</td>\n",
              "      <td>-0.344748</td>\n",
              "      <td>0.285568</td>\n",
              "      <td>1.000000</td>\n",
              "      <td>0.487529</td>\n",
              "    </tr>\n",
              "    <tr>\n",
              "      <th>target</th>\n",
              "      <td>0.210747</td>\n",
              "      <td>0.239516</td>\n",
              "      <td>0.383891</td>\n",
              "      <td>0.151776</td>\n",
              "      <td>0.098895</td>\n",
              "      <td>0.039690</td>\n",
              "      <td>0.187365</td>\n",
              "      <td>-0.396194</td>\n",
              "      <td>0.398880</td>\n",
              "      <td>0.487529</td>\n",
              "      <td>1.000000</td>\n",
              "    </tr>\n",
              "  </tbody>\n",
              "</table>\n",
              "</div>"
            ],
            "text/plain": [
              "               age       sex        cp  trestbps      chol       fbs  \\\n",
              "age       1.000000 -0.091125  0.077383  0.274466  0.218295  0.104400   \n",
              "sex      -0.091125  1.000000  0.022619 -0.058920 -0.189397  0.054396   \n",
              "cp        0.077383  0.022619  1.000000 -0.070886  0.098889 -0.071550   \n",
              "trestbps  0.274466 -0.058920 -0.070886  1.000000  0.157118  0.142902   \n",
              "chol      0.218295 -0.189397  0.098889  0.157118  1.000000  0.019506   \n",
              "fbs       0.104400  0.054396 -0.071550  0.142902  0.019506  1.000000   \n",
              "restecg   0.134438  0.032665  0.061007  0.128652  0.166490  0.054025   \n",
              "thalach  -0.393266 -0.054792 -0.318512 -0.029739 -0.018392  0.019948   \n",
              "exang     0.087174  0.189095  0.364757  0.061072  0.088988  0.027573   \n",
              "oldpeak   0.195740  0.103771  0.173221  0.197026  0.044771 -0.024812   \n",
              "target    0.210747  0.239516  0.383891  0.151776  0.098895  0.039690   \n",
              "\n",
              "           restecg   thalach     exang   oldpeak    target  \n",
              "age       0.134438 -0.393266  0.087174  0.195740  0.210747  \n",
              "sex       0.032665 -0.054792  0.189095  0.103771  0.239516  \n",
              "cp        0.061007 -0.318512  0.364757  0.173221  0.383891  \n",
              "trestbps  0.128652 -0.029739  0.061072  0.197026  0.151776  \n",
              "chol      0.166490 -0.018392  0.088988  0.044771  0.098895  \n",
              "fbs       0.054025  0.019948  0.027573 -0.024812  0.039690  \n",
              "restecg   1.000000 -0.082132  0.088781  0.107675  0.187365  \n",
              "thalach  -0.082132  1.000000 -0.374316 -0.344748 -0.396194  \n",
              "exang     0.088781 -0.374316  1.000000  0.285568  0.398880  \n",
              "oldpeak   0.107675 -0.344748  0.285568  1.000000  0.487529  \n",
              "target    0.187365 -0.396194  0.398880  0.487529  1.000000  "
            ]
          },
          "execution_count": 29,
          "metadata": {},
          "output_type": "execute_result"
        }
      ],
      "source": [
        "dfClean.corr()"
      ]
    },
    {
      "cell_type": "code",
      "execution_count": 30,
      "metadata": {
        "colab": {
          "base_uri": "https://localhost:8080/",
          "height": 648
        },
        "id": "fUvd4ca1ntKx",
        "outputId": "015e4698-a5a0-427a-9529-88b9bc1758d7"
      },
      "outputs": [
        {
          "data": {
            "text/plain": [
              "<Axes: >"
            ]
          },
          "execution_count": 30,
          "metadata": {},
          "output_type": "execute_result"
        },
        {
          "data": {
            "image/png": "[encoded data removed]",
            "text/plain": [
              "<Figure size 1500x1000 with 2 Axes>"
            ]
          },
          "metadata": {},
          "output_type": "display_data"
        }
      ],
      "source": [
        "cor_mat=dfClean.corr()\n",
        "fig,ax=plt.subplots(figsize=(15,10))\n",
        "sns.heatmap(cor_mat,annot=True,linewidths=0.5,fmt=\".3f\")"
      ]
    },
    {
      "cell_type": "markdown",
      "metadata": {
        "id": "eQQ5zpB8odsR"
      },
      "source": [
        "# 6. Konstruksi Data"
      ]
    },
    {
      "cell_type": "markdown",
      "metadata": {
        "id": "7gK0EdO4oifI"
      },
      "source": [
        "Dalam tahap ini Konstruksi data salah satu tujuannya yaitu untuk menyesuaikan semua tipe data yang ada di dalam dataset. Namun pada tahap ini dataset sudah memiliki tipe data yang sesuai sehingga tidak perlu dilakukan penyesuaian kembali"
      ]
    },
    {
      "cell_type": "code",
      "execution_count": 31,
      "metadata": {
        "colab": {
          "base_uri": "https://localhost:8080/"
        },
        "id": "yZQVVyJlofs4",
        "outputId": "d5fb4686-14f1-4122-da5d-62a6c24a9893"
      },
      "outputs": [
        {
          "name": "stdout",
          "output_type": "stream",
          "text": [
            "<class 'pandas.core.frame.DataFrame'>\n",
            "RangeIndex: 282 entries, 0 to 281\n",
            "Data columns (total 11 columns):\n",
            " #   Column    Non-Null Count  Dtype  \n",
            "---  ------    --------------  -----  \n",
            " 0   age       282 non-null    float64\n",
            " 1   sex       282 non-null    float64\n",
            " 2   cp        282 non-null    float64\n",
            " 3   trestbps  282 non-null    float64\n",
            " 4   chol      282 non-null    float64\n",
            " 5   fbs       282 non-null    float64\n",
            " 6   restecg   282 non-null    float64\n",
            " 7   thalach   282 non-null    float64\n",
            " 8   exang     282 non-null    float64\n",
            " 9   oldpeak   282 non-null    float64\n",
            " 10  target    282 non-null    float64\n",
            "dtypes: float64(11)\n",
            "memory usage: 24.4 KB\n"
          ]
        }
      ],
      "source": [
        "dfClean.info()"
      ]
    },
    {
      "cell_type": "code",
      "execution_count": 32,
      "metadata": {
        "colab": {
          "base_uri": "https://localhost:8080/",
          "height": 206
        },
        "id": "vBjbqfT2omZQ",
        "outputId": "69a4553a-82c1-46de-f36b-2ee2d9c922e0"
      },
      "outputs": [
        {
          "data": {
            "text/html": [
              "<div>\n",
              "<style scoped>\n",
              "    .dataframe tbody tr th:only-of-type {\n",
              "        vertical-align: middle;\n",
              "    }\n",
              "\n",
              "    .dataframe tbody tr th {\n",
              "        vertical-align: top;\n",
              "    }\n",
              "\n",
              "    .dataframe thead th {\n",
              "        text-align: right;\n",
              "    }\n",
              "</style>\n",
              "<table border=\"1\" class=\"dataframe\">\n",
              "  <thead>\n",
              "    <tr style=\"text-align: right;\">\n",
              "      <th></th>\n",
              "      <th>age</th>\n",
              "      <th>sex</th>\n",
              "      <th>cp</th>\n",
              "      <th>trestbps</th>\n",
              "      <th>chol</th>\n",
              "      <th>fbs</th>\n",
              "      <th>restecg</th>\n",
              "      <th>thalach</th>\n",
              "      <th>exang</th>\n",
              "      <th>oldpeak</th>\n",
              "      <th>target</th>\n",
              "    </tr>\n",
              "  </thead>\n",
              "  <tbody>\n",
              "    <tr>\n",
              "      <th>0</th>\n",
              "      <td>63.0</td>\n",
              "      <td>1.0</td>\n",
              "      <td>1.0</td>\n",
              "      <td>145.0</td>\n",
              "      <td>233.0</td>\n",
              "      <td>1.0</td>\n",
              "      <td>2.0</td>\n",
              "      <td>150.0</td>\n",
              "      <td>0.0</td>\n",
              "      <td>2.3</td>\n",
              "      <td>0.0</td>\n",
              "    </tr>\n",
              "    <tr>\n",
              "      <th>1</th>\n",
              "      <td>67.0</td>\n",
              "      <td>1.0</td>\n",
              "      <td>4.0</td>\n",
              "      <td>160.0</td>\n",
              "      <td>286.0</td>\n",
              "      <td>0.0</td>\n",
              "      <td>2.0</td>\n",
              "      <td>108.0</td>\n",
              "      <td>1.0</td>\n",
              "      <td>1.5</td>\n",
              "      <td>2.0</td>\n",
              "    </tr>\n",
              "    <tr>\n",
              "      <th>2</th>\n",
              "      <td>67.0</td>\n",
              "      <td>1.0</td>\n",
              "      <td>4.0</td>\n",
              "      <td>120.0</td>\n",
              "      <td>229.0</td>\n",
              "      <td>0.0</td>\n",
              "      <td>2.0</td>\n",
              "      <td>129.0</td>\n",
              "      <td>1.0</td>\n",
              "      <td>2.6</td>\n",
              "      <td>1.0</td>\n",
              "    </tr>\n",
              "    <tr>\n",
              "      <th>3</th>\n",
              "      <td>37.0</td>\n",
              "      <td>1.0</td>\n",
              "      <td>3.0</td>\n",
              "      <td>130.0</td>\n",
              "      <td>250.0</td>\n",
              "      <td>0.0</td>\n",
              "      <td>0.0</td>\n",
              "      <td>187.0</td>\n",
              "      <td>0.0</td>\n",
              "      <td>3.5</td>\n",
              "      <td>0.0</td>\n",
              "    </tr>\n",
              "    <tr>\n",
              "      <th>4</th>\n",
              "      <td>41.0</td>\n",
              "      <td>0.0</td>\n",
              "      <td>2.0</td>\n",
              "      <td>130.0</td>\n",
              "      <td>204.0</td>\n",
              "      <td>0.0</td>\n",
              "      <td>2.0</td>\n",
              "      <td>172.0</td>\n",
              "      <td>0.0</td>\n",
              "      <td>1.4</td>\n",
              "      <td>0.0</td>\n",
              "    </tr>\n",
              "  </tbody>\n",
              "</table>\n",
              "</div>"
            ],
            "text/plain": [
              "    age  sex   cp  trestbps   chol  fbs  restecg  thalach  exang  oldpeak  \\\n",
              "0  63.0  1.0  1.0     145.0  233.0  1.0      2.0    150.0    0.0      2.3   \n",
              "1  67.0  1.0  4.0     160.0  286.0  0.0      2.0    108.0    1.0      1.5   \n",
              "2  67.0  1.0  4.0     120.0  229.0  0.0      2.0    129.0    1.0      2.6   \n",
              "3  37.0  1.0  3.0     130.0  250.0  0.0      0.0    187.0    0.0      3.5   \n",
              "4  41.0  0.0  2.0     130.0  204.0  0.0      2.0    172.0    0.0      1.4   \n",
              "\n",
              "   target  \n",
              "0     0.0  \n",
              "1     2.0  \n",
              "2     1.0  \n",
              "3     0.0  \n",
              "4     0.0  "
            ]
          },
          "execution_count": 32,
          "metadata": {},
          "output_type": "execute_result"
        }
      ],
      "source": [
        "dfClean.head(5)"
      ]
    },
    {
      "cell_type": "markdown",
      "metadata": {
        "id": "bWaiFNXqooPQ"
      },
      "source": [
        "Setelah Menyesuaikan tipe dataset kita , kita harus memisahkan antara fitur dan target lalu simpan kedalam variabel"
      ]
    },
    {
      "cell_type": "code",
      "execution_count": 33,
      "metadata": {
        "id": "2FAt5YiuookA"
      },
      "outputs": [],
      "source": [
        "X = dfClean.drop(\"target\",axis=1).values\n",
        "y = dfClean.iloc[:,-1]"
      ]
    },
    {
      "cell_type": "markdown",
      "metadata": {
        "id": "bWYNAu5_osKI"
      },
      "source": [
        "Setelah kita memisahkan antara fitur dan target , sebaiknya kita melakukan pengecekan terlebih dahulu terhadap persebaran jumlah target terlebih dahulu."
      ]
    },
    {
      "cell_type": "code",
      "execution_count": 34,
      "metadata": {
        "colab": {
          "base_uri": "https://localhost:8080/",
          "height": 545
        },
        "id": "ozLW0jEgouJQ",
        "outputId": "ddeaef3b-29bb-4347-8f6a-f21dad3c7b44"
      },
      "outputs": [
        {
          "data": {
            "image/png": "[encoded data removed]",
            "text/plain": [
              "<Figure size 1000x600 with 1 Axes>"
            ]
          },
          "metadata": {},
          "output_type": "display_data"
        }
      ],
      "source": [
        "dfClean['target'].value_counts().plot(kind='bar',figsize=(10,6),color=['green','blue'])\n",
        "plt.title(\"Count of the target\")\n",
        "plt.xticks(rotation=0);\n"
      ]
    },
    {
      "cell_type": "markdown",
      "metadata": {
        "id": "4a7b_naqoyNI"
      },
      "source": [
        "Pada Grafik diatas menunjukan bahwa persebaran jumlah target tidak seimbang oleh karena itu perlu diseimbangkan terlebih dahulu.\n",
        "Menyeimbangkan target ada 2 cara yaitu oversampling dan undersampling. oversampling dilakukan jika jumlah dataset sedikit sedangkan undersampling dilakukan jika jumlah data terlalu banyak.\n",
        "Disini kita akan melakukan oversampling dikarenakan jumlah data kita tidak banyak. Salah satu metode yang Oversampling yang akan kita gunakan adalah SMOTE\n"
      ]
    },
    {
      "cell_type": "code",
      "execution_count": 35,
      "metadata": {
        "colab": {
          "base_uri": "https://localhost:8080/",
          "height": 515
        },
        "id": "snvbhiGqozDw",
        "outputId": "738b231a-bd9b-476c-8d15-da938c4e0c69"
      },
      "outputs": [
        {
          "data": {
            "image/png": "[encoded data removed]",
            "text/plain": [
              "<Figure size 1000x600 with 2 Axes>"
            ]
          },
          "metadata": {},
          "output_type": "display_data"
        }
      ],
      "source": [
        "from imblearn.over_sampling import SMOTE\n",
        "\n",
        "# oversampling\n",
        "smote = SMOTE(random_state=42)\n",
        "X_smote_resampled, y_smote_resampled = smote.fit_resample(X, y)\n",
        "\n",
        "plt.figure(figsize=(12, 4))\n",
        "new_df1 = pd.DataFrame(data=y)\n",
        "plt.subplot(1, 2, 1)\n",
        "new_df1.value_counts().plot(kind='bar',figsize=(10,6),color=['green','blue','red','yellow'])\n",
        "plt.title(\"target before over sampling with SMOTE \")\n",
        "plt.xticks(rotation=0);\n",
        "\n",
        "\n",
        "plt.subplot(1, 2, 2)\n",
        "new_df2 = pd.DataFrame(data=y_smote_resampled)\n",
        "\n",
        "\n",
        "new_df2.value_counts().plot(kind='bar',figsize=(10,6),color=['green','blue','red','yellow'])\n",
        "plt.title(\"target after over sampling with SMOTE\")\n",
        "plt.xticks(rotation=0);\n",
        "\n",
        "plt.tight_layout()\n",
        "plt.show()\n"
      ]
    },
    {
      "cell_type": "markdown",
      "metadata": {
        "id": "oUTCFXjOpJxw"
      },
      "source": [
        "Pada Grafik diatas dapat dilihat ketika target belum di seimbangkan dan sudah diseimbangkan menggunakan oversampling."
      ]
    },
    {
      "cell_type": "code",
      "execution_count": 36,
      "metadata": {
        "colab": {
          "base_uri": "https://localhost:8080/"
        },
        "id": "m2Cian8VpMTA",
        "outputId": "0bbaadd5-e57c-4aeb-d0f4-94f990b92173"
      },
      "outputs": [
        {
          "data": {
            "text/plain": [
              "target\n",
              "0.0       157\n",
              "1.0        50\n",
              "3.0        32\n",
              "2.0        31\n",
              "4.0        12\n",
              "Name: count, dtype: int64"
            ]
          },
          "execution_count": 36,
          "metadata": {},
          "output_type": "execute_result"
        }
      ],
      "source": [
        "new_df1 = pd.DataFrame(data=y)\n",
        "new_df1.value_counts()"
      ]
    },
    {
      "cell_type": "code",
      "execution_count": 37,
      "metadata": {
        "colab": {
          "base_uri": "https://localhost:8080/"
        },
        "id": "NqvpgUC9pQ7J",
        "outputId": "3c046b3f-33d0-4e6b-ee98-720afa4ec8f9"
      },
      "outputs": [
        {
          "data": {
            "text/plain": [
              "target\n",
              "0.0       157\n",
              "1.0       157\n",
              "2.0       157\n",
              "3.0       157\n",
              "4.0       157\n",
              "Name: count, dtype: int64"
            ]
          },
          "execution_count": 37,
          "metadata": {},
          "output_type": "execute_result"
        }
      ],
      "source": [
        "# over\n",
        "new_df2 = pd.DataFrame(data=y_smote_resampled)\n",
        "new_df2.value_counts()"
      ]
    },
    {
      "cell_type": "markdown",
      "metadata": {
        "id": "3mUhP8mBpZrA"
      },
      "source": [
        "Setelah menyeimbangkan persebaran jumlah target kita akan melakukan mengecekan apakah perlu dilakukan normalisasi/standarisasi pada datset kita."
      ]
    },
    {
      "cell_type": "code",
      "execution_count": 38,
      "metadata": {
        "colab": {
          "base_uri": "https://localhost:8080/",
          "height": 320
        },
        "id": "o3UZLeCXpaJA",
        "outputId": "ad5f77b3-3545-4652-b48f-21b2a5309a64"
      },
      "outputs": [
        {
          "data": {
            "text/html": [
              "<div>\n",
              "<style scoped>\n",
              "    .dataframe tbody tr th:only-of-type {\n",
              "        vertical-align: middle;\n",
              "    }\n",
              "\n",
              "    .dataframe tbody tr th {\n",
              "        vertical-align: top;\n",
              "    }\n",
              "\n",
              "    .dataframe thead th {\n",
              "        text-align: right;\n",
              "    }\n",
              "</style>\n",
              "<table border=\"1\" class=\"dataframe\">\n",
              "  <thead>\n",
              "    <tr style=\"text-align: right;\">\n",
              "      <th></th>\n",
              "      <th>age</th>\n",
              "      <th>sex</th>\n",
              "      <th>cp</th>\n",
              "      <th>trestbps</th>\n",
              "      <th>chol</th>\n",
              "      <th>fbs</th>\n",
              "      <th>restecg</th>\n",
              "      <th>thalach</th>\n",
              "      <th>exang</th>\n",
              "      <th>oldpeak</th>\n",
              "      <th>target</th>\n",
              "    </tr>\n",
              "  </thead>\n",
              "  <tbody>\n",
              "    <tr>\n",
              "      <th>count</th>\n",
              "      <td>282.000000</td>\n",
              "      <td>282.000000</td>\n",
              "      <td>282.000000</td>\n",
              "      <td>282.000000</td>\n",
              "      <td>282.000000</td>\n",
              "      <td>282.000000</td>\n",
              "      <td>282.000000</td>\n",
              "      <td>282.000000</td>\n",
              "      <td>282.000000</td>\n",
              "      <td>282.000000</td>\n",
              "      <td>282.000000</td>\n",
              "    </tr>\n",
              "    <tr>\n",
              "      <th>mean</th>\n",
              "      <td>54.411348</td>\n",
              "      <td>0.677305</td>\n",
              "      <td>3.163121</td>\n",
              "      <td>131.563830</td>\n",
              "      <td>249.092199</td>\n",
              "      <td>0.148936</td>\n",
              "      <td>1.014184</td>\n",
              "      <td>149.765957</td>\n",
              "      <td>0.326241</td>\n",
              "      <td>1.026950</td>\n",
              "      <td>0.907801</td>\n",
              "    </tr>\n",
              "    <tr>\n",
              "      <th>std</th>\n",
              "      <td>9.053083</td>\n",
              "      <td>0.468338</td>\n",
              "      <td>0.955405</td>\n",
              "      <td>17.757496</td>\n",
              "      <td>51.217546</td>\n",
              "      <td>0.356658</td>\n",
              "      <td>0.998118</td>\n",
              "      <td>22.923869</td>\n",
              "      <td>0.469670</td>\n",
              "      <td>1.138825</td>\n",
              "      <td>1.224894</td>\n",
              "    </tr>\n",
              "    <tr>\n",
              "      <th>min</th>\n",
              "      <td>29.000000</td>\n",
              "      <td>0.000000</td>\n",
              "      <td>1.000000</td>\n",
              "      <td>94.000000</td>\n",
              "      <td>126.000000</td>\n",
              "      <td>0.000000</td>\n",
              "      <td>0.000000</td>\n",
              "      <td>71.000000</td>\n",
              "      <td>0.000000</td>\n",
              "      <td>0.000000</td>\n",
              "      <td>0.000000</td>\n",
              "    </tr>\n",
              "    <tr>\n",
              "      <th>25%</th>\n",
              "      <td>48.000000</td>\n",
              "      <td>0.000000</td>\n",
              "      <td>3.000000</td>\n",
              "      <td>120.000000</td>\n",
              "      <td>213.000000</td>\n",
              "      <td>0.000000</td>\n",
              "      <td>0.000000</td>\n",
              "      <td>133.250000</td>\n",
              "      <td>0.000000</td>\n",
              "      <td>0.000000</td>\n",
              "      <td>0.000000</td>\n",
              "    </tr>\n",
              "    <tr>\n",
              "      <th>50%</th>\n",
              "      <td>55.000000</td>\n",
              "      <td>1.000000</td>\n",
              "      <td>3.000000</td>\n",
              "      <td>130.000000</td>\n",
              "      <td>244.000000</td>\n",
              "      <td>0.000000</td>\n",
              "      <td>2.000000</td>\n",
              "      <td>153.500000</td>\n",
              "      <td>0.000000</td>\n",
              "      <td>0.800000</td>\n",
              "      <td>0.000000</td>\n",
              "    </tr>\n",
              "    <tr>\n",
              "      <th>75%</th>\n",
              "      <td>61.000000</td>\n",
              "      <td>1.000000</td>\n",
              "      <td>4.000000</td>\n",
              "      <td>140.000000</td>\n",
              "      <td>277.000000</td>\n",
              "      <td>0.000000</td>\n",
              "      <td>2.000000</td>\n",
              "      <td>165.750000</td>\n",
              "      <td>1.000000</td>\n",
              "      <td>1.600000</td>\n",
              "      <td>2.000000</td>\n",
              "    </tr>\n",
              "    <tr>\n",
              "      <th>max</th>\n",
              "      <td>77.000000</td>\n",
              "      <td>1.000000</td>\n",
              "      <td>4.000000</td>\n",
              "      <td>200.000000</td>\n",
              "      <td>564.000000</td>\n",
              "      <td>1.000000</td>\n",
              "      <td>2.000000</td>\n",
              "      <td>202.000000</td>\n",
              "      <td>1.000000</td>\n",
              "      <td>6.200000</td>\n",
              "      <td>4.000000</td>\n",
              "    </tr>\n",
              "  </tbody>\n",
              "</table>\n",
              "</div>"
            ],
            "text/plain": [
              "              age         sex          cp    trestbps        chol         fbs  \\\n",
              "count  282.000000  282.000000  282.000000  282.000000  282.000000  282.000000   \n",
              "mean    54.411348    0.677305    3.163121  131.563830  249.092199    0.148936   \n",
              "std      9.053083    0.468338    0.955405   17.757496   51.217546    0.356658   \n",
              "min     29.000000    0.000000    1.000000   94.000000  126.000000    0.000000   \n",
              "25%     48.000000    0.000000    3.000000  120.000000  213.000000    0.000000   \n",
              "50%     55.000000    1.000000    3.000000  130.000000  244.000000    0.000000   \n",
              "75%     61.000000    1.000000    4.000000  140.000000  277.000000    0.000000   \n",
              "max     77.000000    1.000000    4.000000  200.000000  564.000000    1.000000   \n",
              "\n",
              "          restecg     thalach       exang     oldpeak      target  \n",
              "count  282.000000  282.000000  282.000000  282.000000  282.000000  \n",
              "mean     1.014184  149.765957    0.326241    1.026950    0.907801  \n",
              "std      0.998118   22.923869    0.469670    1.138825    1.224894  \n",
              "min      0.000000   71.000000    0.000000    0.000000    0.000000  \n",
              "25%      0.000000  133.250000    0.000000    0.000000    0.000000  \n",
              "50%      2.000000  153.500000    0.000000    0.800000    0.000000  \n",
              "75%      2.000000  165.750000    1.000000    1.600000    2.000000  \n",
              "max      2.000000  202.000000    1.000000    6.200000    4.000000  "
            ]
          },
          "execution_count": 38,
          "metadata": {},
          "output_type": "execute_result"
        }
      ],
      "source": [
        "dfClean.describe()"
      ]
    },
    {
      "cell_type": "markdown",
      "metadata": {
        "id": "b7pV9SXUpe1I"
      },
      "source": [
        "Pada deskripsi diatas dapat dilihat bahwa terdapat rentang nilai yang cukup jauh pada standar deviasi setiap fitur dataset yang kita miliki. Oleh karena itu perlu dilakukan normalisasi/standarisasi agar memperkecil rentang antara standar deviasi setiap kolom."
      ]
    },
    {
      "cell_type": "code",
      "execution_count": 39,
      "metadata": {
        "colab": {
          "base_uri": "https://localhost:8080/"
        },
        "id": "vLzjZwe2pgGy",
        "outputId": "acb71b9b-c8cc-46c0-cd31-687b8a4005f8"
      },
      "outputs": [
        {
          "data": {
            "text/plain": [
              "785"
            ]
          },
          "execution_count": 39,
          "metadata": {},
          "output_type": "execute_result"
        }
      ],
      "source": [
        "from sklearn.preprocessing import MinMaxScaler\n",
        "scaler = MinMaxScaler()\n",
        "X_smote_resampled_normal = scaler.fit_transform(X_smote_resampled)\n",
        "len(X_smote_resampled_normal)"
      ]
    },
    {
      "cell_type": "code",
      "execution_count": 40,
      "metadata": {
        "colab": {
          "base_uri": "https://localhost:8080/",
          "height": 320
        },
        "id": "PijOwQfJpp5R",
        "outputId": "a2606ab2-bff2-44c7-e2c6-5ef6a7376ca5"
      },
      "outputs": [
        {
          "data": {
            "text/html": [
              "<div>\n",
              "<style scoped>\n",
              "    .dataframe tbody tr th:only-of-type {\n",
              "        vertical-align: middle;\n",
              "    }\n",
              "\n",
              "    .dataframe tbody tr th {\n",
              "        vertical-align: top;\n",
              "    }\n",
              "\n",
              "    .dataframe thead th {\n",
              "        text-align: right;\n",
              "    }\n",
              "</style>\n",
              "<table border=\"1\" class=\"dataframe\">\n",
              "  <thead>\n",
              "    <tr style=\"text-align: right;\">\n",
              "      <th></th>\n",
              "      <th>0</th>\n",
              "      <th>1</th>\n",
              "      <th>2</th>\n",
              "      <th>3</th>\n",
              "      <th>4</th>\n",
              "      <th>5</th>\n",
              "      <th>6</th>\n",
              "      <th>7</th>\n",
              "      <th>8</th>\n",
              "      <th>9</th>\n",
              "    </tr>\n",
              "  </thead>\n",
              "  <tbody>\n",
              "    <tr>\n",
              "      <th>count</th>\n",
              "      <td>785.000000</td>\n",
              "      <td>785.000000</td>\n",
              "      <td>785.000000</td>\n",
              "      <td>785.000000</td>\n",
              "      <td>785.000000</td>\n",
              "      <td>785.000000</td>\n",
              "      <td>785.000000</td>\n",
              "      <td>785.000000</td>\n",
              "      <td>785.000000</td>\n",
              "      <td>785.000000</td>\n",
              "    </tr>\n",
              "    <tr>\n",
              "      <th>mean</th>\n",
              "      <td>0.559464</td>\n",
              "      <td>0.780670</td>\n",
              "      <td>0.811714</td>\n",
              "      <td>0.374562</td>\n",
              "      <td>0.285381</td>\n",
              "      <td>0.139624</td>\n",
              "      <td>0.602408</td>\n",
              "      <td>0.542282</td>\n",
              "      <td>0.455827</td>\n",
              "      <td>0.238190</td>\n",
              "    </tr>\n",
              "    <tr>\n",
              "      <th>std</th>\n",
              "      <td>0.168535</td>\n",
              "      <td>0.374987</td>\n",
              "      <td>0.283240</td>\n",
              "      <td>0.149318</td>\n",
              "      <td>0.111148</td>\n",
              "      <td>0.309894</td>\n",
              "      <td>0.441362</td>\n",
              "      <td>0.161043</td>\n",
              "      <td>0.443229</td>\n",
              "      <td>0.180595</td>\n",
              "    </tr>\n",
              "    <tr>\n",
              "      <th>min</th>\n",
              "      <td>0.000000</td>\n",
              "      <td>0.000000</td>\n",
              "      <td>0.000000</td>\n",
              "      <td>0.000000</td>\n",
              "      <td>0.000000</td>\n",
              "      <td>0.000000</td>\n",
              "      <td>0.000000</td>\n",
              "      <td>0.000000</td>\n",
              "      <td>0.000000</td>\n",
              "      <td>0.000000</td>\n",
              "    </tr>\n",
              "    <tr>\n",
              "      <th>25%</th>\n",
              "      <td>0.458333</td>\n",
              "      <td>0.659984</td>\n",
              "      <td>0.666667</td>\n",
              "      <td>0.264151</td>\n",
              "      <td>0.207870</td>\n",
              "      <td>0.000000</td>\n",
              "      <td>0.000000</td>\n",
              "      <td>0.423142</td>\n",
              "      <td>0.000000</td>\n",
              "      <td>0.092091</td>\n",
              "    </tr>\n",
              "    <tr>\n",
              "      <th>50%</th>\n",
              "      <td>0.583333</td>\n",
              "      <td>1.000000</td>\n",
              "      <td>1.000000</td>\n",
              "      <td>0.358491</td>\n",
              "      <td>0.280822</td>\n",
              "      <td>0.000000</td>\n",
              "      <td>0.887086</td>\n",
              "      <td>0.543578</td>\n",
              "      <td>0.348039</td>\n",
              "      <td>0.225806</td>\n",
              "    </tr>\n",
              "    <tr>\n",
              "      <th>75%</th>\n",
              "      <td>0.678864</td>\n",
              "      <td>1.000000</td>\n",
              "      <td>1.000000</td>\n",
              "      <td>0.469468</td>\n",
              "      <td>0.356164</td>\n",
              "      <td>0.000000</td>\n",
              "      <td>1.000000</td>\n",
              "      <td>0.668935</td>\n",
              "      <td>1.000000</td>\n",
              "      <td>0.370968</td>\n",
              "    </tr>\n",
              "    <tr>\n",
              "      <th>max</th>\n",
              "      <td>1.000000</td>\n",
              "      <td>1.000000</td>\n",
              "      <td>1.000000</td>\n",
              "      <td>1.000000</td>\n",
              "      <td>1.000000</td>\n",
              "      <td>1.000000</td>\n",
              "      <td>1.000000</td>\n",
              "      <td>1.000000</td>\n",
              "      <td>1.000000</td>\n",
              "      <td>1.000000</td>\n",
              "    </tr>\n",
              "  </tbody>\n",
              "</table>\n",
              "</div>"
            ],
            "text/plain": [
              "                0           1           2           3           4           5  \\\n",
              "count  785.000000  785.000000  785.000000  785.000000  785.000000  785.000000   \n",
              "mean     0.559464    0.780670    0.811714    0.374562    0.285381    0.139624   \n",
              "std      0.168535    0.374987    0.283240    0.149318    0.111148    0.309894   \n",
              "min      0.000000    0.000000    0.000000    0.000000    0.000000    0.000000   \n",
              "25%      0.458333    0.659984    0.666667    0.264151    0.207870    0.000000   \n",
              "50%      0.583333    1.000000    1.000000    0.358491    0.280822    0.000000   \n",
              "75%      0.678864    1.000000    1.000000    0.469468    0.356164    0.000000   \n",
              "max      1.000000    1.000000    1.000000    1.000000    1.000000    1.000000   \n",
              "\n",
              "                6           7           8           9  \n",
              "count  785.000000  785.000000  785.000000  785.000000  \n",
              "mean     0.602408    0.542282    0.455827    0.238190  \n",
              "std      0.441362    0.161043    0.443229    0.180595  \n",
              "min      0.000000    0.000000    0.000000    0.000000  \n",
              "25%      0.000000    0.423142    0.000000    0.092091  \n",
              "50%      0.887086    0.543578    0.348039    0.225806  \n",
              "75%      1.000000    0.668935    1.000000    0.370968  \n",
              "max      1.000000    1.000000    1.000000    1.000000  "
            ]
          },
          "execution_count": 40,
          "metadata": {},
          "output_type": "execute_result"
        }
      ],
      "source": [
        "dfcek1 = pd.DataFrame(X_smote_resampled_normal)\n",
        "dfcek1.describe()"
      ]
    },
    {
      "cell_type": "markdown",
      "metadata": {
        "id": "XBHob4yepvqo"
      },
      "source": [
        "Setelah dilakukan normalisasi pada fitur, selanjutnya kita perlu membagi fitur dan target menjadi data train dan test"
      ]
    },
    {
      "cell_type": "code",
      "execution_count": 41,
      "metadata": {
        "id": "UPU07F4qp31R"
      },
      "outputs": [],
      "source": [
        "from sklearn.model_selection import train_test_split\n",
        "\n",
        "\n",
        "# membagi fitur dan target menjadi data train dan test (untuk yang oversample saja)\n",
        "X_train, X_test, y_train, y_test = train_test_split(X_smote_resampled, y_smote_resampled, test_size=0.2, random_state=42,stratify=y_smote_resampled)\n",
        "\n",
        "\n",
        "# membagi fitur dan target menjadi data train dan test (untuk yang oversample + normalization)\n",
        "X_train_normal, X_test_normal, y_train_normal, y_test_normal = train_test_split(X_smote_resampled_normal, y_smote_resampled, test_size=0.2, random_state=42,stratify = y_smote_resampled)\n"
      ]
    },
    {
      "cell_type": "markdown",
      "metadata": {
        "id": "hyc0VJZop9Mx"
      },
      "source": [
        "# 7. Model"
      ]
    },
    {
      "cell_type": "markdown",
      "metadata": {
        "id": "7CQXgiOnqBNp"
      },
      "source": [
        "Pada tahap ini kita akan memulai untuk membangun sebuah model.\n",
        "\n",
        "Dibawah ini merupakan sebuah fungsi untuk menampilkan hasil akurasi dan rata - rata dari recall , f1 dan precision score setiap model. Fungsi ini nantinya akan dipanggil di setiap model. Membuat Fungsi ini bersifat opsional.\n"
      ]
    },
    {
      "cell_type": "code",
      "execution_count": 42,
      "metadata": {
        "id": "40AmGcfHqCOx"
      },
      "outputs": [],
      "source": [
        "from sklearn.metrics import accuracy_score,recall_score,f1_score,precision_score,roc_auc_score,confusion_matrix,precision_score\n",
        "def evaluation(Y_test,Y_pred):\n",
        "  acc = accuracy_score(Y_test,Y_pred)\n",
        "  rcl = recall_score(Y_test,Y_pred,average = 'weighted')\n",
        "  f1 = f1_score(Y_test,Y_pred,average = 'weighted')\n",
        "  ps = precision_score(Y_test,Y_pred,average = 'weighted')\n",
        "\n",
        "  metric_dict={\n",
        "    'accuracy': round(acc,3),\n",
        "    'recall': round(rcl,3),\n",
        "    'F1 score': round(f1,3),\n",
        "    'Precision score': round(ps,3)\n",
        "  }\n",
        "\n",
        "  return print(metric_dict)"
      ]
    },
    {
      "cell_type": "markdown",
      "metadata": {
        "id": "ICquzaYjqU2A"
      },
      "source": [
        "## KNN"
      ]
    },
    {
      "cell_type": "markdown",
      "metadata": {
        "id": "sxkVnevxqYgJ"
      },
      "source": [
        "Pada tahap ini kita akan akan memulai membangun model dengan algoritma KNN dengan nilai neighbors yaitu 3."
      ]
    },
    {
      "cell_type": "code",
      "execution_count": 43,
      "metadata": {
        "colab": {
          "base_uri": "https://localhost:8080/",
          "height": 75
        },
        "id": "oau-iyFLqWV4",
        "outputId": "6160f905-382a-43b4-eda5-1b70042ebcb3"
      },
      "outputs": [],
      "source": [
        "from sklearn.neighbors import KNeighborsClassifier\n",
        "from sklearn.ensemble import RandomForestClassifier\n",
        "from xgboost import XGBClassifier\n",
        "from sklearn.metrics import accuracy_score, classification_report\n",
        "\n",
        "\n",
        "knn_model = KNeighborsClassifier(n_neighbors = 3)\n",
        "knn_model.fit(X_train, y_train)\n",
        "# save\n",
        "with open('model/cleveland/knn.pkl','wb') as f:\n",
        "    pickle.dump(knn_model,f)"
      ]
    },
    {
      "cell_type": "markdown",
      "metadata": {
        "id": "7T4y1N-1qoU4"
      },
      "source": [
        "Berikut adalah kode program untuk menampilkan hasil akurasi dengan algoritma KNN"
      ]
    },
    {
      "cell_type": "code",
      "execution_count": 44,
      "metadata": {
        "colab": {
          "base_uri": "https://localhost:8080/"
        },
        "id": "FdEmbiNSqqWJ",
        "outputId": "8f699a1f-8797-499a-95b9-4715a2a24db5"
      },
      "outputs": [
        {
          "name": "stdout",
          "output_type": "stream",
          "text": [
            "K-Nearest Neighbors (KNN) Model:\n",
            "Accuracy: 0.688\n",
            "Classification Report:\n",
            "              precision    recall  f1-score   support\n",
            "\n",
            "         0.0       0.55      0.53      0.54        32\n",
            "         1.0       0.59      0.71      0.65        31\n",
            "         2.0       0.76      0.84      0.80        31\n",
            "         3.0       0.76      0.69      0.72        32\n",
            "         4.0       0.81      0.68      0.74        31\n",
            "\n",
            "    accuracy                           0.69       157\n",
            "   macro avg       0.69      0.69      0.69       157\n",
            "weighted avg       0.69      0.69      0.69       157\n",
            "\n"
          ]
        }
      ],
      "source": [
        "y_pred_knn = knn_model.predict(X_test) # Evaluate the KNN model\n",
        "print(\"K-Nearest Neighbors (KNN) Model:\")\n",
        "accuracy_knn_smote = round(accuracy_score(y_test,y_pred_knn),3)\n",
        "print(\"Accuracy:\", accuracy_knn_smote)\n",
        "print(\"Classification Report:\")\n",
        "print(classification_report(y_test, y_pred_knn))"
      ]
    },
    {
      "cell_type": "code",
      "execution_count": 45,
      "metadata": {
        "colab": {
          "base_uri": "https://localhost:8080/"
        },
        "id": "seQs_uBxrFIp",
        "outputId": "f61354bd-7ba0-4de2-e173-acee331f740e"
      },
      "outputs": [
        {
          "name": "stdout",
          "output_type": "stream",
          "text": [
            "{'accuracy': 0.688, 'recall': 0.688, 'F1 score': 0.688, 'Precision score': 0.694}\n"
          ]
        }
      ],
      "source": [
        "evaluation(y_test,y_pred_knn)"
      ]
    },
    {
      "cell_type": "markdown",
      "metadata": {
        "id": "yzMbv3r7rOex"
      },
      "source": [
        "Pada visualisasi ini ditampilkan visualisasi confusion matrix untuk membandingkan hasil prediksi model dengan nilai sebenarnya."
      ]
    },
    {
      "cell_type": "code",
      "execution_count": 46,
      "metadata": {
        "colab": {
          "base_uri": "https://localhost:8080/",
          "height": 564
        },
        "id": "GuIqWUGlrNjr",
        "outputId": "e5c75809-e9bc-49c7-d1fc-10acf8ff32ab"
      },
      "outputs": [
        {
          "data": {
            "image/png": "[encoded data removed]",
            "text/plain": [
              "<Figure size 800x600 with 2 Axes>"
            ]
          },
          "metadata": {},
          "output_type": "display_data"
        }
      ],
      "source": [
        "cm = confusion_matrix(y_test, y_pred_knn)\n",
        "plt.figure(figsize=(8, 6))\n",
        "sns.heatmap(cm, annot=True, fmt=\"d\", cmap=\"Blues\")\n",
        "plt.title('Confusion Matrix')\n",
        "plt.xlabel('True')\n",
        "plt.ylabel('Predict')\n",
        "plt.show()"
      ]
    },
    {
      "cell_type": "markdown",
      "metadata": {
        "id": "ib2E1QC40b5S"
      },
      "source": [
        "## Random Forest"
      ]
    },
    {
      "cell_type": "markdown",
      "metadata": {
        "id": "8EZ8nnry0exD"
      },
      "source": [
        "Selanjutnya kita akan membangun model dengan algoritma random forest dengan n_estimators yaitu 100, n_estimators sendiri berguna\n",
        "mengatur jumlah pohon keputusan yang akan dibangun\n"
      ]
    },
    {
      "cell_type": "code",
      "execution_count": 47,
      "metadata": {
        "colab": {
          "base_uri": "https://localhost:8080/",
          "height": 75
        },
        "id": "0R_LfDIM0giK",
        "outputId": "5cdc813d-0cea-4919-9091-cd8516a25ce7"
      },
      "outputs": [],
      "source": [
        "rf_model = RandomForestClassifier(n_estimators=100, random_state=42)\n",
        "rf_model.fit(X_train, y_train)\n",
        "# save\n",
        "with open('model/cleveland/rf.pkl','wb') as f:\n",
        "    pickle.dump(rf_model,f)"
      ]
    },
    {
      "cell_type": "code",
      "execution_count": 48,
      "metadata": {
        "colab": {
          "base_uri": "https://localhost:8080/"
        },
        "id": "PftuYedk0jIq",
        "outputId": "074e28e6-b028-4898-89c6-f840022e0e2c"
      },
      "outputs": [
        {
          "name": "stdout",
          "output_type": "stream",
          "text": [
            "\n",
            "Random Forest Model:\n",
            "Accuracy: 0.911\n",
            "Classification Report:\n",
            "              precision    recall  f1-score   support\n",
            "\n",
            "         0.0       0.94      0.91      0.92        32\n",
            "         1.0       0.79      0.87      0.83        31\n",
            "         2.0       0.88      0.97      0.92        31\n",
            "         3.0       0.96      0.84      0.90        32\n",
            "         4.0       1.00      0.97      0.98        31\n",
            "\n",
            "    accuracy                           0.91       157\n",
            "   macro avg       0.92      0.91      0.91       157\n",
            "weighted avg       0.92      0.91      0.91       157\n",
            "\n"
          ]
        }
      ],
      "source": [
        "y_pred_rf = rf_model.predict(X_test)\n",
        "# Evaluate the Random Forest model\n",
        "print(\"\\nRandom Forest Model:\")\n",
        "accuracy_rf_smote = round(accuracy_score(y_test, y_pred_rf),3)\n",
        "print(\"Accuracy:\",accuracy_rf_smote)\n",
        "print(\"Classification Report:\")\n",
        "print(classification_report(y_test, y_pred_rf))\n"
      ]
    },
    {
      "cell_type": "code",
      "execution_count": 49,
      "metadata": {
        "colab": {
          "base_uri": "https://localhost:8080/"
        },
        "id": "xz5Ttr6z0nsy",
        "outputId": "8132688d-ee9c-4643-f996-a86bc2dc435c"
      },
      "outputs": [
        {
          "name": "stdout",
          "output_type": "stream",
          "text": [
            "{'accuracy': 0.911, 'recall': 0.911, 'F1 score': 0.912, 'Precision score': 0.916}\n"
          ]
        }
      ],
      "source": [
        "evaluation(y_test,y_pred_rf)"
      ]
    },
    {
      "cell_type": "code",
      "execution_count": 50,
      "metadata": {
        "colab": {
          "base_uri": "https://localhost:8080/",
          "height": 564
        },
        "id": "dwFTfvFR0tTC",
        "outputId": "bbc37a43-a4be-4135-a64c-5827c26524d5"
      },
      "outputs": [
        {
          "data": {
            "image/png": "[encoded data removed]",
            "text/plain": [
              "<Figure size 800x600 with 2 Axes>"
            ]
          },
          "metadata": {},
          "output_type": "display_data"
        }
      ],
      "source": [
        "cm = confusion_matrix(y_test, y_pred_rf)\n",
        "plt.figure(figsize=(8, 6))\n",
        "sns.heatmap(cm, annot=True, fmt=\"d\", cmap=\"Blues\")\n",
        "plt.title('Confusion Matrix')\n",
        "plt.xlabel('True')\n",
        "plt.ylabel('Predict')\n",
        "plt.show()"
      ]
    },
    {
      "cell_type": "markdown",
      "metadata": {
        "id": "hs4PSvxo00zC"
      },
      "source": [
        "## XGBoost"
      ]
    },
    {
      "cell_type": "markdown",
      "metadata": {
        "id": "cpArcOOW036j"
      },
      "source": [
        "Pada tahap ini dalam membangun model, kita akan menggunakan algoritma XGBoost dengan learning rate yaitu 0.1. learning rate berguna untuk mengontrol seberapa besar kita menyesuaikan bobot model"
      ]
    },
    {
      "cell_type": "code",
      "execution_count": 51,
      "metadata": {
        "colab": {
          "base_uri": "https://localhost:8080/",
          "height": 248
        },
        "id": "eM1MEVp202YS",
        "outputId": "54f65ae0-891f-401f-d6d9-ee77088f4c16"
      },
      "outputs": [],
      "source": [
        "xgb_model = XGBClassifier(learning_rate=0.1, n_estimators=100, random_state=42)\n",
        "xgb_model.fit(X_train, y_train)\n",
        "# save\n",
        "with open('model/cleveland/xgb.pkl','wb') as f:\n",
        "    pickle.dump(xgb_model,f)"
      ]
    },
    {
      "cell_type": "code",
      "execution_count": 52,
      "metadata": {
        "colab": {
          "base_uri": "https://localhost:8080/"
        },
        "id": "vb_Wjrew1EPa",
        "outputId": "a5c1ea46-443f-4015-c913-4a6522082b18"
      },
      "outputs": [
        {
          "name": "stdout",
          "output_type": "stream",
          "text": [
            "Accuracy: 0.917\n",
            "Classification Report:\n",
            "              precision    recall  f1-score   support\n",
            "\n",
            "         0.0       0.86      0.94      0.90        32\n",
            "         1.0       0.93      0.90      0.92        31\n",
            "         2.0       0.90      0.90      0.90        31\n",
            "         3.0       0.90      0.88      0.89        32\n",
            "         4.0       1.00      0.97      0.98        31\n",
            "\n",
            "    accuracy                           0.92       157\n",
            "   macro avg       0.92      0.92      0.92       157\n",
            "weighted avg       0.92      0.92      0.92       157\n",
            "\n"
          ]
        }
      ],
      "source": [
        "y_pred_xgb = xgb_model.predict(X_test)\n",
        "\n",
        "# Evaluate the XGBoost model print(\"\\nXGBoost Model:\")\n",
        "accuracy_xgb_smote = round(accuracy_score(y_test, y_pred_xgb),3)\n",
        "print(\"Accuracy:\",accuracy_xgb_smote)\n",
        "print(\"Classification Report:\")\n",
        "print(classification_report(y_test, y_pred_xgb))"
      ]
    },
    {
      "cell_type": "code",
      "execution_count": 53,
      "metadata": {
        "colab": {
          "base_uri": "https://localhost:8080/"
        },
        "id": "OljplKzo1f-q",
        "outputId": "0d1d4974-a5b7-45e7-facc-d652592c3e35"
      },
      "outputs": [
        {
          "name": "stdout",
          "output_type": "stream",
          "text": [
            "{'accuracy': 0.917, 'recall': 0.917, 'F1 score': 0.918, 'Precision score': 0.919}\n"
          ]
        }
      ],
      "source": [
        "evaluation(y_test,y_pred_xgb)"
      ]
    },
    {
      "cell_type": "code",
      "execution_count": 54,
      "metadata": {
        "colab": {
          "base_uri": "https://localhost:8080/",
          "height": 564
        },
        "id": "x5bgJRaJ1kRa",
        "outputId": "5691922b-7fe4-4323-ae32-f08e74a090b4"
      },
      "outputs": [
        {
          "data": {
            "image/png": "[encoded data removed]",
            "text/plain": [
              "<Figure size 800x600 with 2 Axes>"
            ]
          },
          "metadata": {},
          "output_type": "display_data"
        }
      ],
      "source": [
        "cm = confusion_matrix(y_test, y_pred_xgb)\n",
        "plt.figure(figsize=(8, 6))\n",
        "sns.heatmap(cm, annot=True, fmt=\"d\", cmap=\"Blues\")\n",
        "plt.title('Confusion Matrix')\n",
        "plt.xlabel('True')\n",
        "plt.ylabel('Predict')\n",
        "plt.show()\n"
      ]
    },
    {
      "cell_type": "markdown",
      "metadata": {},
      "source": [
        "## Logistic Regression"
      ]
    },
    {
      "cell_type": "code",
      "execution_count": 55,
      "metadata": {},
      "outputs": [
        {
          "name": "stderr",
          "output_type": "stream",
          "text": [
            "c:\\laragon\\bin\\python\\python-3.10\\lib\\site-packages\\sklearn\\linear_model\\_logistic.py:460: ConvergenceWarning: lbfgs failed to converge (status=1):\n",
            "STOP: TOTAL NO. of ITERATIONS REACHED LIMIT.\n",
            "\n",
            "Increase the number of iterations (max_iter) or scale the data as shown in:\n",
            "    https://scikit-learn.org/stable/modules/preprocessing.html\n",
            "Please also refer to the documentation for alternative solver options:\n",
            "    https://scikit-learn.org/stable/modules/linear_model.html#logistic-regression\n",
            "  n_iter_i = _check_optimize_result(\n"
          ]
        }
      ],
      "source": [
        "from sklearn.linear_model import LogisticRegression\n",
        "lr_model = LogisticRegression(random_state=0,solver='lbfgs', max_iter=100)\n",
        "lr_model.fit(X_train, y_train)\n",
        "# save\n",
        "with open('model/cleveland/lr.pkl','wb') as f:\n",
        "    pickle.dump(lr_model,f)"
      ]
    },
    {
      "cell_type": "code",
      "execution_count": 56,
      "metadata": {},
      "outputs": [
        {
          "name": "stdout",
          "output_type": "stream",
          "text": [
            "Accuracy: 0.427\n",
            "Classification Report:\n",
            "              precision    recall  f1-score   support\n",
            "\n",
            "         0.0       0.59      0.72      0.65        32\n",
            "         1.0       0.23      0.23      0.23        31\n",
            "         2.0       0.44      0.45      0.44        31\n",
            "         3.0       0.28      0.16      0.20        32\n",
            "         4.0       0.49      0.58      0.53        31\n",
            "\n",
            "    accuracy                           0.43       157\n",
            "   macro avg       0.40      0.43      0.41       157\n",
            "weighted avg       0.40      0.43      0.41       157\n",
            "\n"
          ]
        }
      ],
      "source": [
        "y_pred_lr = lr_model.predict(X_test)\n",
        "\n",
        "# Evaluate the LRoost model print(\"\\nLogistic Regression Model:\")\n",
        "accuracy_lr_smote = round(accuracy_score(y_test, y_pred_lr),3)\n",
        "print(\"Accuracy:\",accuracy_lr_smote)\n",
        "print(\"Classification Report:\")\n",
        "print(classification_report(y_test, y_pred_lr))"
      ]
    },
    {
      "cell_type": "code",
      "execution_count": 57,
      "metadata": {},
      "outputs": [
        {
          "name": "stdout",
          "output_type": "stream",
          "text": [
            "{'accuracy': 0.427, 'recall': 0.427, 'F1 score': 0.41, 'Precision score': 0.404}\n"
          ]
        }
      ],
      "source": [
        "evaluation(y_test,y_pred_lr)"
      ]
    },
    {
      "cell_type": "markdown",
      "metadata": {},
      "source": [
        "## SVM"
      ]
    },
    {
      "cell_type": "code",
      "execution_count": 58,
      "metadata": {},
      "outputs": [],
      "source": [
        "from sklearn import svm\n",
        "svm_model = svm.SVC(kernel='rbf', gamma=1, C=100)\n",
        "svm_model.fit(X_train, y_train)\n",
        "\n",
        "# save\n",
        "with open('model/cleveland/svm.pkl','wb') as f:\n",
        "    pickle.dump(svm_model,f)"
      ]
    },
    {
      "cell_type": "code",
      "execution_count": 59,
      "metadata": {},
      "outputs": [
        {
          "name": "stdout",
          "output_type": "stream",
          "text": [
            "SVM Model:\n",
            "Accuracy: 0.376\n",
            "Classification Report:\n",
            "              precision    recall  f1-score   support\n",
            "\n",
            "         0.0       0.25      1.00      0.40        32\n",
            "         1.0       1.00      0.16      0.28        31\n",
            "         2.0       1.00      0.29      0.45        31\n",
            "         3.0       1.00      0.19      0.32        32\n",
            "         4.0       1.00      0.23      0.37        31\n",
            "\n",
            "    accuracy                           0.38       157\n",
            "   macro avg       0.85      0.37      0.36       157\n",
            "weighted avg       0.85      0.38      0.36       157\n",
            "\n"
          ]
        }
      ],
      "source": [
        "y_pred_svm = svm_model.predict(X_test) # Evaluate the SVM model\n",
        "print(\"SVM Model:\")\n",
        "accuracy_svm_smote = round(accuracy_score(y_test,y_pred_svm),3)\n",
        "print(\"Accuracy:\", accuracy_svm_smote)\n",
        "print(\"Classification Report:\")\n",
        "print(classification_report(y_test, y_pred_svm))"
      ]
    },
    {
      "cell_type": "code",
      "execution_count": 60,
      "metadata": {},
      "outputs": [
        {
          "name": "stdout",
          "output_type": "stream",
          "text": [
            "{'accuracy': 0.376, 'recall': 0.376, 'F1 score': 0.361, 'Precision score': 0.846}\n"
          ]
        }
      ],
      "source": [
        "evaluation(y_test,y_pred_svm)"
      ]
    },
    {
      "cell_type": "code",
      "execution_count": 61,
      "metadata": {},
      "outputs": [
        {
          "data": {
            "image/png": "[encoded data removed]",
            "text/plain": [
              "<Figure size 800x600 with 2 Axes>"
            ]
          },
          "metadata": {},
          "output_type": "display_data"
        }
      ],
      "source": [
        "cm = confusion_matrix(y_test, y_pred_svm)\n",
        "plt.figure(figsize=(8, 6))\n",
        "sns.heatmap(cm, annot=True, fmt=\"d\", cmap=\"Blues\")\n",
        "plt.title('Confusion Matrix')\n",
        "plt.xlabel('True')\n",
        "plt.ylabel('Predict')\n",
        "plt.show()"
      ]
    },
    {
      "cell_type": "markdown",
      "metadata": {
        "id": "MlB0SV-z1oey"
      },
      "source": [
        "## Oversample + Normalisasi"
      ]
    },
    {
      "cell_type": "markdown",
      "metadata": {
        "id": "9cU5Adzt1sc6"
      },
      "source": [
        "Pada bagian ini kita akan membuat sebuah model yang dimana data yang dipakai kali ini yang sudah dilakukan oversample dan normalisasi. Algoritma yang digunakan sama seperti sebelumnya yaitu KNN, Random Forest, dan XGBoost. Sekaligus dibuat visualisasi hasil evaluasi pada masing-masing model."
      ]
    },
    {
      "cell_type": "markdown",
      "metadata": {
        "id": "A1wW8Yzb1yC7"
      },
      "source": [
        "### KNN"
      ]
    },
    {
      "cell_type": "code",
      "execution_count": 63,
      "metadata": {
        "colab": {
          "base_uri": "https://localhost:8080/",
          "height": 75
        },
        "id": "DETkdf9X1xkr",
        "outputId": "8f722363-25fb-4778-d43b-f7bc044fb299"
      },
      "outputs": [],
      "source": [
        "from sklearn.neighbors import KNeighborsClassifier\n",
        "from sklearn.ensemble import RandomForestClassifier\n",
        "from xgboost import XGBClassifier\n",
        "from sklearn.metrics import accuracy_score, classification_report\n",
        "\n",
        "knn_model = KNeighborsClassifier(n_neighbors=3)\n",
        "knn_model.fit(X_train_normal, y_train_normal)\n",
        "# save\n",
        "with open('model/cleveland/knn_oversample.pkl','wb') as f:\n",
        "    pickle.dump(knn_model,f)"
      ]
    },
    {
      "cell_type": "code",
      "execution_count": 64,
      "metadata": {
        "colab": {
          "base_uri": "https://localhost:8080/"
        },
        "id": "Ls4wPZGa17ir",
        "outputId": "2393c2f4-42f4-48b5-cf00-c8ddcb1b2bd7"
      },
      "outputs": [
        {
          "name": "stdout",
          "output_type": "stream",
          "text": [
            "K-Nearest Neighbors (KNN) Model:\n",
            "Accuracy: 0.803\n",
            "Classification Report:\n",
            "              precision    recall  f1-score   support\n",
            "\n",
            "         0.0       0.84      0.84      0.84        32\n",
            "         1.0       0.63      0.61      0.62        31\n",
            "         2.0       0.87      0.87      0.87        31\n",
            "         3.0       0.85      0.69      0.76        32\n",
            "         4.0       0.82      1.00      0.90        31\n",
            "\n",
            "    accuracy                           0.80       157\n",
            "   macro avg       0.80      0.80      0.80       157\n",
            "weighted avg       0.80      0.80      0.80       157\n",
            "\n"
          ]
        }
      ],
      "source": [
        "y_pred_knn = knn_model.predict(X_test_normal)\n",
        "\n",
        "# Evaluate the KNN model\n",
        "print(\"K-Nearest Neighbors (KNN) Model:\")\n",
        "accuracy_knn_smote_normal = round(accuracy_score(y_test_normal,y_pred_knn),3)\n",
        "print(\"Accuracy:\", accuracy_knn_smote_normal)\n",
        "print(\"Classification Report:\")\n",
        "print(classification_report(y_test_normal, y_pred_knn))\n",
        "\n"
      ]
    },
    {
      "cell_type": "code",
      "execution_count": 65,
      "metadata": {
        "colab": {
          "base_uri": "https://localhost:8080/"
        },
        "id": "Gfb5enGv2BvS",
        "outputId": "d1f86252-5f6a-4fe9-b77a-9c31bcdf38ea"
      },
      "outputs": [
        {
          "name": "stdout",
          "output_type": "stream",
          "text": [
            "{'accuracy': 0.803, 'recall': 0.803, 'F1 score': 0.799, 'Precision score': 0.803}\n"
          ]
        }
      ],
      "source": [
        "evaluation(y_test_normal,y_pred_knn)"
      ]
    },
    {
      "cell_type": "code",
      "execution_count": 66,
      "metadata": {
        "colab": {
          "base_uri": "https://localhost:8080/",
          "height": 564
        },
        "id": "y0rwfEMM2Goq",
        "outputId": "1bbf2f17-1a6f-42a2-d376-3fa8ad2cd1f8"
      },
      "outputs": [
        {
          "data": {
            "image/png": "[encoded data removed]",
            "text/plain": [
              "<Figure size 800x600 with 2 Axes>"
            ]
          },
          "metadata": {},
          "output_type": "display_data"
        }
      ],
      "source": [
        "cm = confusion_matrix(y_test_normal, y_pred_knn)\n",
        "plt.figure(figsize=(8, 6))\n",
        "sns.heatmap(cm, annot=True, fmt=\"d\", cmap=\"Blues\")\n",
        "plt.title('Confusion Matrix')\n",
        "plt.xlabel('True')\n",
        "plt.ylabel('Predict')\n",
        "plt.show()\n"
      ]
    },
    {
      "cell_type": "markdown",
      "metadata": {
        "id": "gfVO89sc2Lly"
      },
      "source": [
        "### Random Forest"
      ]
    },
    {
      "cell_type": "code",
      "execution_count": 67,
      "metadata": {
        "colab": {
          "base_uri": "https://localhost:8080/",
          "height": 75
        },
        "id": "pYU1FVCL2NgS",
        "outputId": "3cbcb1ec-41af-4cfe-add9-45c1e1bde6b7"
      },
      "outputs": [],
      "source": [
        "rf_model = RandomForestClassifier(n_estimators=100, random_state=42)\n",
        "rf_model.fit(X_train_normal, y_train_normal)\n",
        "# save\n",
        "with open('model/cleveland/rf_oversample.pkl','wb') as f:\n",
        "    pickle.dump(rf_model,f)"
      ]
    },
    {
      "cell_type": "code",
      "execution_count": 68,
      "metadata": {
        "colab": {
          "base_uri": "https://localhost:8080/"
        },
        "id": "GRnZmcHe2SNq",
        "outputId": "e9417271-2571-450f-f15d-84bae7aa3da8"
      },
      "outputs": [
        {
          "name": "stdout",
          "output_type": "stream",
          "text": [
            "\n",
            "Random Forest Model:\n",
            "Accuracy: 0.911\n",
            "Classification Report:\n",
            "              precision    recall  f1-score   support\n",
            "\n",
            "         0.0       0.94      0.91      0.92        32\n",
            "         1.0       0.79      0.87      0.83        31\n",
            "         2.0       0.88      0.97      0.92        31\n",
            "         3.0       0.96      0.84      0.90        32\n",
            "         4.0       1.00      0.97      0.98        31\n",
            "\n",
            "    accuracy                           0.91       157\n",
            "   macro avg       0.92      0.91      0.91       157\n",
            "weighted avg       0.92      0.91      0.91       157\n",
            "\n"
          ]
        }
      ],
      "source": [
        "y_pred_rf = rf_model.predict(X_test_normal)\n",
        "\n",
        "# Evaluate the Random Forest model\n",
        "print(\"\\nRandom Forest Model:\")\n",
        "accuracy_rf_smote_normal = round(accuracy_score(y_test_normal, y_pred_rf),3)\n",
        "print(\"Accuracy:\",accuracy_rf_smote_normal )\n",
        "print(\"Classification Report:\")\n",
        "print(classification_report(y_test_normal, y_pred_rf))\n"
      ]
    },
    {
      "cell_type": "code",
      "execution_count": 69,
      "metadata": {
        "colab": {
          "base_uri": "https://localhost:8080/"
        },
        "id": "yQj1x6KV2XaC",
        "outputId": "7f487adf-1c70-4fb6-8f2b-517f80b91b99"
      },
      "outputs": [
        {
          "name": "stdout",
          "output_type": "stream",
          "text": [
            "{'accuracy': 0.911, 'recall': 0.911, 'F1 score': 0.912, 'Precision score': 0.916}\n"
          ]
        }
      ],
      "source": [
        "evaluation(y_test_normal,y_pred_rf)"
      ]
    },
    {
      "cell_type": "code",
      "execution_count": 70,
      "metadata": {
        "colab": {
          "base_uri": "https://localhost:8080/",
          "height": 564
        },
        "id": "Yw26vAyu2Y8a",
        "outputId": "066f89af-2588-4937-9080-5488984a240a"
      },
      "outputs": [
        {
          "data": {
            "image/png": "[encoded data removed]",
            "text/plain": [
              "<Figure size 800x600 with 2 Axes>"
            ]
          },
          "metadata": {},
          "output_type": "display_data"
        }
      ],
      "source": [
        "cm = confusion_matrix(y_test_normal, y_pred_rf)\n",
        "plt.figure(figsize=(8, 6))\n",
        "sns.heatmap(cm, annot=True, fmt=\"d\", cmap=\"Blues\")\n",
        "plt.title('Confusion Matrix')\n",
        "plt.xlabel('True')\n",
        "plt.ylabel('Predict')\n",
        "plt.show()\n"
      ]
    },
    {
      "cell_type": "markdown",
      "metadata": {
        "id": "O5-atijA2cgS"
      },
      "source": [
        "### XGBoost"
      ]
    },
    {
      "cell_type": "code",
      "execution_count": 71,
      "metadata": {
        "colab": {
          "base_uri": "https://localhost:8080/",
          "height": 248
        },
        "id": "a-WfsMW12fK5",
        "outputId": "546bedf5-e881-4b52-bef0-7b42006812f3"
      },
      "outputs": [],
      "source": [
        "xgb_model = XGBClassifier(learning_rate=0.1, n_estimators=100, random_state=42)\n",
        "xgb_model.fit(X_train_normal, y_train_normal)\n",
        "# save\n",
        "with open('model/cleveland/xgb_oversample.pkl','wb') as f:\n",
        "    pickle.dump(xgb_model,f)"
      ]
    },
    {
      "cell_type": "code",
      "execution_count": 72,
      "metadata": {
        "colab": {
          "base_uri": "https://localhost:8080/"
        },
        "id": "of6IledU2iSy",
        "outputId": "c84780cd-6dd3-4dce-8efa-78f4f26ab501"
      },
      "outputs": [
        {
          "name": "stdout",
          "output_type": "stream",
          "text": [
            "\n",
            "XGBoost Model:\n",
            "Accuracy: 0.917\n",
            "Classification Report:\n",
            "              precision    recall  f1-score   support\n",
            "\n",
            "         0.0       0.86      0.94      0.90        32\n",
            "         1.0       0.93      0.90      0.92        31\n",
            "         2.0       0.90      0.90      0.90        31\n",
            "         3.0       0.90      0.88      0.89        32\n",
            "         4.0       1.00      0.97      0.98        31\n",
            "\n",
            "    accuracy                           0.92       157\n",
            "   macro avg       0.92      0.92      0.92       157\n",
            "weighted avg       0.92      0.92      0.92       157\n",
            "\n"
          ]
        }
      ],
      "source": [
        "y_pred_xgb = xgb_model.predict(X_test_normal)\n",
        "\n",
        "# Evaluate the XGBoost model\n",
        "print(\"\\nXGBoost Model:\")\n",
        "accuracy_xgb_smote_normal = round(accuracy_score(y_test_normal, y_pred_xgb),3)\n",
        "print(\"Accuracy:\",accuracy_xgb_smote_normal)\n",
        "print(\"Classification Report:\")\n",
        "print(classification_report(y_test_normal, y_pred_xgb))\n"
      ]
    },
    {
      "cell_type": "code",
      "execution_count": 73,
      "metadata": {
        "colab": {
          "base_uri": "https://localhost:8080/"
        },
        "id": "Ekmq41T52l0z",
        "outputId": "817494a1-b244-4eec-ff30-42eaa4fa336d"
      },
      "outputs": [
        {
          "name": "stdout",
          "output_type": "stream",
          "text": [
            "{'accuracy': 0.917, 'recall': 0.917, 'F1 score': 0.918, 'Precision score': 0.919}\n"
          ]
        }
      ],
      "source": [
        "evaluation(y_test_normal,y_pred_xgb)"
      ]
    },
    {
      "cell_type": "code",
      "execution_count": 74,
      "metadata": {
        "colab": {
          "base_uri": "https://localhost:8080/",
          "height": 564
        },
        "id": "KuBWMUFG2niz",
        "outputId": "f4c71abd-6233-4a9c-b383-9d4138dad708"
      },
      "outputs": [
        {
          "data": {
            "image/png": "[encoded data removed]",
            "text/plain": [
              "<Figure size 800x600 with 2 Axes>"
            ]
          },
          "metadata": {},
          "output_type": "display_data"
        }
      ],
      "source": [
        "cm = confusion_matrix(y_test_normal, y_pred_xgb)\n",
        "plt.figure(figsize=(8, 6))\n",
        "sns.heatmap(cm, annot=True, fmt=\"d\", cmap=\"Blues\")\n",
        "plt.title('Confusion Matrix')\n",
        "plt.xlabel('True')\n",
        "plt.ylabel('Predict')\n",
        "plt.show()\n"
      ]
    },
    {
      "cell_type": "markdown",
      "metadata": {},
      "source": [
        "### Logistic Regression"
      ]
    },
    {
      "cell_type": "code",
      "execution_count": 75,
      "metadata": {},
      "outputs": [],
      "source": [
        "lr_model = LogisticRegression( C=10, penalty=\"l1\", solver=\"saga\", max_iter=10000)\n",
        "lr_model.fit(X_train_normal, y_train_normal)\n",
        "# save\n",
        "with open('model/cleveland/lr_oversample.pkl','wb') as f:\n",
        "    pickle.dump(lr_model,f)"
      ]
    },
    {
      "cell_type": "code",
      "execution_count": 76,
      "metadata": {},
      "outputs": [
        {
          "name": "stdout",
          "output_type": "stream",
          "text": [
            "\n",
            "Random Forest Model:\n",
            "Accuracy: 0.554\n",
            "Classification Report:\n",
            "              precision    recall  f1-score   support\n",
            "\n",
            "         0.0       0.71      0.69      0.70        32\n",
            "         1.0       0.33      0.42      0.37        31\n",
            "         2.0       0.70      0.61      0.66        31\n",
            "         3.0       0.39      0.22      0.28        32\n",
            "         4.0       0.63      0.84      0.72        31\n",
            "\n",
            "    accuracy                           0.55       157\n",
            "   macro avg       0.55      0.56      0.54       157\n",
            "weighted avg       0.55      0.55      0.54       157\n",
            "\n"
          ]
        }
      ],
      "source": [
        "y_pred_lr = lr_model.predict(X_test_normal)\n",
        "\n",
        "# Evaluate the Random Forest model\n",
        "print(\"\\nRandom Forest Model:\")\n",
        "accuracy_lr_smote_normal = round(accuracy_score(y_test_normal, y_pred_lr),3)\n",
        "print(\"Accuracy:\",accuracy_lr_smote_normal )\n",
        "print(\"Classification Report:\")\n",
        "print(classification_report(y_test_normal, y_pred_lr))"
      ]
    },
    {
      "cell_type": "code",
      "execution_count": 77,
      "metadata": {},
      "outputs": [
        {
          "name": "stdout",
          "output_type": "stream",
          "text": [
            "{'accuracy': 0.554, 'recall': 0.554, 'F1 score': 0.544, 'Precision score': 0.552}\n"
          ]
        }
      ],
      "source": [
        "evaluation(y_test_normal,y_pred_lr)"
      ]
    },
    {
      "cell_type": "code",
      "execution_count": 78,
      "metadata": {},
      "outputs": [
        {
          "data": {
            "image/png": "[encoded data removed]",
            "text/plain": [
              "<Figure size 800x600 with 2 Axes>"
            ]
          },
          "metadata": {},
          "output_type": "display_data"
        }
      ],
      "source": [
        "cm = confusion_matrix(y_test_normal, y_pred_lr)\n",
        "plt.figure(figsize=(8, 6))\n",
        "sns.heatmap(cm, annot=True, fmt=\"d\", cmap=\"Blues\")\n",
        "plt.title('Confusion Matrix')\n",
        "plt.xlabel('True')\n",
        "plt.ylabel('Predict')\n",
        "plt.show()"
      ]
    },
    {
      "cell_type": "markdown",
      "metadata": {},
      "source": [
        "### SVM"
      ]
    },
    {
      "cell_type": "code",
      "execution_count": 79,
      "metadata": {},
      "outputs": [],
      "source": [
        "svm_model = LogisticRegression( C=10, penalty=\"l1\", solver=\"saga\", max_iter=10000)\n",
        "svm_model.fit(X_train_normal, y_train_normal)\n",
        "# save\n",
        "with open('model/cleveland/svm_oversample.pkl','wb') as f:\n",
        "    pickle.dump(svm_model,f)"
      ]
    },
    {
      "cell_type": "code",
      "execution_count": 80,
      "metadata": {},
      "outputs": [
        {
          "name": "stdout",
          "output_type": "stream",
          "text": [
            "\n",
            "SVM Model:\n",
            "Accuracy: 0.554\n",
            "Classification Report:\n",
            "              precision    recall  f1-score   support\n",
            "\n",
            "         0.0       0.71      0.69      0.70        32\n",
            "         1.0       0.33      0.42      0.37        31\n",
            "         2.0       0.70      0.61      0.66        31\n",
            "         3.0       0.39      0.22      0.28        32\n",
            "         4.0       0.63      0.84      0.72        31\n",
            "\n",
            "    accuracy                           0.55       157\n",
            "   macro avg       0.55      0.56      0.54       157\n",
            "weighted avg       0.55      0.55      0.54       157\n",
            "\n"
          ]
        }
      ],
      "source": [
        "y_pred_svm = svm_model.predict(X_test_normal)\n",
        "\n",
        "# Evaluate the SVM model\n",
        "print(\"\\nSVM Model:\")\n",
        "accuracy_svm_smote_normal = round(accuracy_score(y_test_normal, y_pred_svm),3)\n",
        "print(\"Accuracy:\",accuracy_svm_smote_normal )\n",
        "print(\"Classification Report:\")\n",
        "print(classification_report(y_test_normal, y_pred_svm))"
      ]
    },
    {
      "cell_type": "code",
      "execution_count": 81,
      "metadata": {},
      "outputs": [
        {
          "name": "stdout",
          "output_type": "stream",
          "text": [
            "{'accuracy': 0.554, 'recall': 0.554, 'F1 score': 0.544, 'Precision score': 0.552}\n"
          ]
        }
      ],
      "source": [
        "evaluation(y_test_normal,y_pred_svm)"
      ]
    },
    {
      "cell_type": "code",
      "execution_count": 82,
      "metadata": {},
      "outputs": [
        {
          "data": {
            "image/png": "[encoded data removed]",
            "text/plain": [
              "<Figure size 800x600 with 2 Axes>"
            ]
          },
          "metadata": {},
          "output_type": "display_data"
        }
      ],
      "source": [
        "cm = confusion_matrix(y_test_normal, y_pred_svm)\n",
        "plt.figure(figsize=(8, 6))\n",
        "sns.heatmap(cm, annot=True, fmt=\"d\", cmap=\"Blues\")\n",
        "plt.title('Confusion Matrix')\n",
        "plt.xlabel('True')\n",
        "plt.ylabel('Predict')\n",
        "plt.show()"
      ]
    },
    {
      "cell_type": "markdown",
      "metadata": {
        "id": "T5pcvE5L2s9K"
      },
      "source": [
        "## Tunning + Normalization + Oversample"
      ]
    },
    {
      "cell_type": "markdown",
      "metadata": {
        "id": "yPX81WQy2v6C"
      },
      "source": [
        "Pada pembuatan model kali ini masih menggunakan algoritma yang sama (KNN, Random Forest, dan XGBoost), namun data yang digunakan adalah data yang sudah dilakukan TunNIng Parameter, Normalisasi, dan Oversample."
      ]
    },
    {
      "cell_type": "markdown",
      "metadata": {
        "id": "YcrBwP0z2xQz"
      },
      "source": [
        "### KNN"
      ]
    },
    {
      "cell_type": "code",
      "execution_count": 83,
      "metadata": {
        "id": "1V5i8XiW2vGK"
      },
      "outputs": [],
      "source": [
        "from sklearn.neighbors import KNeighborsClassifier\n",
        "from sklearn.ensemble import RandomForestClassifier\n",
        "from xgboost import XGBClassifier\n",
        "from sklearn.metrics import accuracy_score, classification_report\n",
        "from sklearn.model_selection import RandomizedSearchCV"
      ]
    },
    {
      "cell_type": "markdown",
      "metadata": {
        "id": "4sCBGCa9249q"
      },
      "source": [
        "Setiap parameter tunnning tidak selalu sama karena bergantung pada algoritma yang digunakan."
      ]
    },
    {
      "cell_type": "code",
      "execution_count": 84,
      "metadata": {
        "colab": {
          "base_uri": "https://localhost:8080/"
        },
        "id": "a9DHhmQO25e6",
        "outputId": "62d047f4-c5b3-4540-c596-a17ac92f1b14"
      },
      "outputs": [
        {
          "name": "stdout",
          "output_type": "stream",
          "text": [
            "Best parameters: {'weights': 'distance', 'n_neighbors': 4, 'metric': 'manhattan', 'leaf_size': 47, 'algorithm': 'ball_tree'}\n"
          ]
        }
      ],
      "source": [
        "knn_model = KNeighborsClassifier()\n",
        "param_grid = {\n",
        "  \"n_neighbors\": range(3, 21),\n",
        "  \"metric\": [\"euclidean\", \"manhattan\", \"chebyshev\"], \"weights\": [\"uniform\", \"distance\"],\n",
        "  \"algorithm\": [\"auto\", \"ball_tree\", \"kd_tree\"], \"leaf_size\": range(10, 61),\n",
        "}\n",
        "\n",
        "knn_model = RandomizedSearchCV(estimator=knn_model, param_distributions=param_grid, n_iter=100, scoring=\"accuracy\", cv=5)\n",
        "\n",
        "knn_model.fit(X_train_normal, y_train_normal)\n",
        "# save\n",
        "with open('model/cleveland/knn_tunning.pkl','wb') as f:\n",
        "    pickle.dump(knn_model,f)\n",
        "\n",
        "best_params = knn_model.best_params_\n",
        "print(f\"Best parameters: {best_params}\")\n"
      ]
    },
    {
      "cell_type": "code",
      "execution_count": 85,
      "metadata": {
        "colab": {
          "base_uri": "https://localhost:8080/"
        },
        "id": "gOKpqIQZ6EXD",
        "outputId": "a214f5f3-fab1-4f3b-969e-2ff88dab0d24"
      },
      "outputs": [
        {
          "name": "stdout",
          "output_type": "stream",
          "text": [
            "K-Nearest Neighbors (KNN) Model:\n",
            "Accuracy: 0.879\n",
            "Classification Report:\n",
            "              precision    recall  f1-score   support\n",
            "\n",
            "         0.0       1.00      0.84      0.92        32\n",
            "         1.0       0.83      0.77      0.80        31\n",
            "         2.0       0.82      0.90      0.86        31\n",
            "         3.0       0.90      0.88      0.89        32\n",
            "         4.0       0.86      1.00      0.93        31\n",
            "\n",
            "    accuracy                           0.88       157\n",
            "   macro avg       0.88      0.88      0.88       157\n",
            "weighted avg       0.88      0.88      0.88       157\n",
            "\n"
          ]
        }
      ],
      "source": [
        "y_pred_knn = knn_model.predict(X_test_normal)\n",
        "\n",
        "# Evaluate the KNN model\n",
        "print(\"K-Nearest Neighbors (KNN) Model:\")\n",
        "accuracy_knn_smote_normal_Tun = round(accuracy_score(y_test_normal,y_pred_knn),3)\n",
        "print(\"Accuracy:\", accuracy_knn_smote_normal_Tun)\n",
        "print(\"Classification Report:\")\n",
        "print(classification_report(y_test_normal, y_pred_knn))\n"
      ]
    },
    {
      "cell_type": "code",
      "execution_count": 86,
      "metadata": {
        "colab": {
          "base_uri": "https://localhost:8080/"
        },
        "id": "0zIZs3n43Czq",
        "outputId": "a23700d3-be49-4d3b-8c05-5556dc5c7ca2"
      },
      "outputs": [
        {
          "name": "stdout",
          "output_type": "stream",
          "text": [
            "{'accuracy': 0.879, 'recall': 0.879, 'F1 score': 0.879, 'Precision score': 0.884}\n"
          ]
        }
      ],
      "source": [
        "evaluation(y_test_normal,y_pred_knn)"
      ]
    },
    {
      "cell_type": "code",
      "execution_count": 87,
      "metadata": {
        "colab": {
          "base_uri": "https://localhost:8080/",
          "height": 564
        },
        "id": "M1SbjjOH3Fvi",
        "outputId": "19bed8cf-23cf-4f4f-fe6e-6e95643db5c8"
      },
      "outputs": [
        {
          "data": {
            "image/png": "[encoded data removed]",
            "text/plain": [
              "<Figure size 800x600 with 2 Axes>"
            ]
          },
          "metadata": {},
          "output_type": "display_data"
        }
      ],
      "source": [
        "cm = confusion_matrix(y_test_normal, y_pred_knn)\n",
        "plt.figure(figsize=(8, 6))\n",
        "sns.heatmap(cm, annot=True, fmt=\"d\", cmap=\"Blues\")\n",
        "plt.title('Confusion Matrix')\n",
        "plt.xlabel('True')\n",
        "plt.ylabel('Predict')\n",
        "plt.show()"
      ]
    },
    {
      "cell_type": "markdown",
      "metadata": {
        "id": "3Lp1YdVd3K2Y"
      },
      "source": [
        "### Random Forest"
      ]
    },
    {
      "cell_type": "code",
      "execution_count": 88,
      "metadata": {
        "colab": {
          "base_uri": "https://localhost:8080/"
        },
        "id": "lxp8dOgE3OYS",
        "outputId": "c7ac2b12-8022-460e-e5db-0330b0f4712e"
      },
      "outputs": [
        {
          "name": "stderr",
          "output_type": "stream",
          "text": [
            "c:\\laragon\\bin\\python\\python-3.10\\lib\\site-packages\\sklearn\\model_selection\\_search.py:307: UserWarning: The total space of parameters 96 is smaller than n_iter=100. Running 96 iterations. For exhaustive searches, use GridSearchCV.\n",
            "  warnings.warn(\n"
          ]
        },
        {
          "name": "stdout",
          "output_type": "stream",
          "text": [
            "Best parameters: {'random_state': 42, 'n_estimators': 200, 'min_samples_split': 2, 'min_samples_leaf': 1, 'max_features': 'sqrt', 'max_depth': 15}\n"
          ]
        }
      ],
      "source": [
        "rf_model = RandomForestClassifier()\n",
        "\n",
        "param_grid = {\n",
        "  \"n_estimators\": [100, 200],\n",
        "  \"max_depth\": [ 10, 15],\n",
        "  \"min_samples_leaf\": [1, 2],\n",
        "  \"min_samples_split\": [2, 5],\n",
        "  \"max_features\": [\"sqrt\", \"log2\"],\n",
        "  \"random_state\": [42, 100, 200]\n",
        "}\n",
        "\n",
        "rf_model = RandomizedSearchCV(rf_model, param_grid, n_iter=100, cv=5, n_jobs=-1)\n",
        "rf_model.fit(X_train_normal, y_train_normal)\n",
        "# save\n",
        "with open('model/cleveland/rf_tunning.pkl','wb') as f:\n",
        "    pickle.dump(rf_model,f)\n",
        "best_params = rf_model.best_params_\n",
        "print(f\"Best parameters: {best_params}\")\n"
      ]
    },
    {
      "cell_type": "code",
      "execution_count": 89,
      "metadata": {
        "colab": {
          "base_uri": "https://localhost:8080/"
        },
        "id": "jG5ClDpD3aiY",
        "outputId": "7077078a-20cf-47fb-9b70-b19ced0c4eb4"
      },
      "outputs": [
        {
          "name": "stdout",
          "output_type": "stream",
          "text": [
            "\n",
            "Random Forest Model:\n",
            "Accuracy: 0.93\n",
            "Classification Report:\n",
            "              precision    recall  f1-score   support\n",
            "\n",
            "         0.0       0.94      0.94      0.94        32\n",
            "         1.0       0.85      0.90      0.88        31\n",
            "         2.0       0.91      1.00      0.95        31\n",
            "         3.0       0.96      0.84      0.90        32\n",
            "         4.0       1.00      0.97      0.98        31\n",
            "\n",
            "    accuracy                           0.93       157\n",
            "   macro avg       0.93      0.93      0.93       157\n",
            "weighted avg       0.93      0.93      0.93       157\n",
            "\n"
          ]
        }
      ],
      "source": [
        "y_pred_rf = rf_model.predict(X_test_normal)\n",
        "\n",
        "# Evaluate the Random Forest model\n",
        "print(\"\\nRandom Forest Model:\")\n",
        "accuracy_rf_smote_normal_Tun = round(accuracy_score(y_test_normal, y_pred_rf),3)\n",
        "print(\"Accuracy:\",accuracy_rf_smote_normal_Tun)\n",
        "print(\"Classification Report:\")\n",
        "print(classification_report(y_test_normal, y_pred_rf))"
      ]
    },
    {
      "cell_type": "code",
      "execution_count": 90,
      "metadata": {
        "colab": {
          "base_uri": "https://localhost:8080/"
        },
        "id": "1dHkWMxB3grM",
        "outputId": "9d9de3bb-fadc-4eb3-b0fa-66e05fb93979"
      },
      "outputs": [
        {
          "name": "stdout",
          "output_type": "stream",
          "text": [
            "{'accuracy': 0.93, 'recall': 0.93, 'F1 score': 0.93, 'Precision score': 0.933}\n"
          ]
        }
      ],
      "source": [
        "evaluation(y_test_normal,y_pred_rf)"
      ]
    },
    {
      "cell_type": "code",
      "execution_count": 91,
      "metadata": {
        "colab": {
          "base_uri": "https://localhost:8080/",
          "height": 564
        },
        "id": "LbWvhbK23hzi",
        "outputId": "a6df2545-11c2-41c6-9cbe-bcae10907772"
      },
      "outputs": [
        {
          "data": {
            "image/png": "[encoded data removed]",
            "text/plain": [
              "<Figure size 800x600 with 2 Axes>"
            ]
          },
          "metadata": {},
          "output_type": "display_data"
        }
      ],
      "source": [
        "cm = confusion_matrix(y_test_normal, y_pred_rf)\n",
        "\n",
        "plt.figure(figsize=(8, 6))\n",
        "sns.heatmap(cm, annot=True, fmt=\"d\", cmap=\"Blues\")\n",
        "plt.title('Confusion Matrix')\n",
        "plt.xlabel('True')\n",
        "plt.ylabel('Predict')\n",
        "plt.show()\n"
      ]
    },
    {
      "cell_type": "markdown",
      "metadata": {
        "id": "xKzn7YB53nJy"
      },
      "source": [
        "### XGBoost"
      ]
    },
    {
      "cell_type": "code",
      "execution_count": 92,
      "metadata": {
        "colab": {
          "base_uri": "https://localhost:8080/"
        },
        "id": "eEMTlY-_3o-C",
        "outputId": "6aeec240-a4c1-4160-bc63-6199f66387e5"
      },
      "outputs": [
        {
          "name": "stdout",
          "output_type": "stream",
          "text": [
            "Best parameters: {'n_estimators': 100, 'max_depth': 7, 'learning_rate': 0.1, 'gamma': 0, 'colsample_bytree': 0.7}\n"
          ]
        }
      ],
      "source": [
        "xgb_model = XGBClassifier()\n",
        "param_grid = {\n",
        "  \"max_depth\": [3, 5, 7],\n",
        "  \"learning_rate\": [0.01, 0.1],\n",
        "  \"n_estimators\": [100, 200],\n",
        "  \"gamma\": [0, 0.1],\n",
        "  \"colsample_bytree\": [0.7, 0.8]\n",
        "}\n",
        "\n",
        "xgb_model = RandomizedSearchCV(xgb_model, param_grid, n_iter=10, cv=5, n_jobs=-1)\n",
        "\n",
        "xgb_model.fit(X_train_normal, y_train_normal)\n",
        "# save\n",
        "with open('model/cleveland/xgb_tunning.pkl','wb') as f:\n",
        "    pickle.dump(xgb_model,f)\n",
        "\n",
        "best_params = xgb_model.best_params_\n",
        "print(f\"Best parameters: {best_params}\")"
      ]
    },
    {
      "cell_type": "code",
      "execution_count": 93,
      "metadata": {
        "colab": {
          "base_uri": "https://localhost:8080/"
        },
        "id": "BnM1hgRX3yNx",
        "outputId": "ff36b973-55aa-4a50-fba8-371310cf1b24"
      },
      "outputs": [
        {
          "name": "stdout",
          "output_type": "stream",
          "text": [
            "\n",
            "XGBoost Model:\n",
            "Accuracy: 0.904\n",
            "Classification Report:\n",
            "              precision    recall  f1-score   support\n",
            "\n",
            "         0.0       0.91      0.91      0.91        32\n",
            "         1.0       0.90      0.84      0.87        31\n",
            "         2.0       0.88      0.97      0.92        31\n",
            "         3.0       0.90      0.84      0.87        32\n",
            "         4.0       0.94      0.97      0.95        31\n",
            "\n",
            "    accuracy                           0.90       157\n",
            "   macro avg       0.90      0.90      0.90       157\n",
            "weighted avg       0.90      0.90      0.90       157\n",
            "\n"
          ]
        }
      ],
      "source": [
        "y_pred_xgb = xgb_model.predict(X_test_normal)\n",
        "\n",
        "# Evaluate the XGBoost model\n",
        "print(\"\\nXGBoost Model:\")\n",
        "accuracy_xgb_smote_normal_Tun = round(accuracy_score(y_test_normal, y_pred_xgb),3)\n",
        "print(\"Accuracy:\",accuracy_xgb_smote_normal_Tun)\n",
        "print(\"Classification Report:\")\n",
        "print(classification_report(y_test_normal, y_pred_xgb))\n"
      ]
    },
    {
      "cell_type": "code",
      "execution_count": 94,
      "metadata": {
        "colab": {
          "base_uri": "https://localhost:8080/"
        },
        "id": "oPr0U3Ar313h",
        "outputId": "8d460f40-b563-420b-c6e5-5a49ca2aead7"
      },
      "outputs": [
        {
          "name": "stdout",
          "output_type": "stream",
          "text": [
            "{'accuracy': 0.904, 'recall': 0.904, 'F1 score': 0.904, 'Precision score': 0.905}\n"
          ]
        }
      ],
      "source": [
        "evaluation(y_test_normal,y_pred_xgb)"
      ]
    },
    {
      "cell_type": "code",
      "execution_count": 95,
      "metadata": {
        "colab": {
          "base_uri": "https://localhost:8080/",
          "height": 564
        },
        "id": "hl66-1yM33TT",
        "outputId": "b89e21fa-cac2-40d3-f576-a204ceb7f09e"
      },
      "outputs": [
        {
          "data": {
            "image/png": "[encoded data removed]",
            "text/plain": [
              "<Figure size 800x600 with 2 Axes>"
            ]
          },
          "metadata": {},
          "output_type": "display_data"
        }
      ],
      "source": [
        "cm = confusion_matrix(y_test_normal, y_pred_xgb)\n",
        "plt.figure(figsize=(8, 6))\n",
        "sns.heatmap(cm, annot=True, fmt=\"d\", cmap=\"Blues\")\n",
        "plt.title('Confusion Matrix')\n",
        "plt.xlabel('True')\n",
        "plt.ylabel('Predict')\n",
        "plt.show()"
      ]
    },
    {
      "cell_type": "markdown",
      "metadata": {},
      "source": [
        "### Logistic Regression"
      ]
    },
    {
      "cell_type": "code",
      "execution_count": 96,
      "metadata": {},
      "outputs": [
        {
          "name": "stderr",
          "output_type": "stream",
          "text": [
            "c:\\laragon\\bin\\python\\python-3.10\\lib\\site-packages\\sklearn\\model_selection\\_search.py:307: UserWarning: The total space of parameters 40 is smaller than n_iter=100. Running 40 iterations. For exhaustive searches, use GridSearchCV.\n",
            "  warnings.warn(\n"
          ]
        },
        {
          "name": "stdout",
          "output_type": "stream",
          "text": [
            "Best parameters: {'solver': 'liblinear', 'penalty': 'l2', 'C': 78.47599703514607}\n"
          ]
        }
      ],
      "source": [
        "lr_model = LogisticRegression()\n",
        "\n",
        "param_grid = {\n",
        "  'penalty' : ['l1', 'l2'],\n",
        "  'C' : np.logspace(-4, 4, 20),\n",
        "  'solver' : ['liblinear']\n",
        "}\n",
        "\n",
        "lr_model = RandomizedSearchCV(lr_model, param_grid, n_iter=100, cv=5, n_jobs=-1)\n",
        "lr_model.fit(X_train_normal, y_train_normal)\n",
        "# save\n",
        "with open('model/cleveland/lr_tunning.pkl','wb') as f:\n",
        "    pickle.dump(lr_model,f)\n",
        "best_params = lr_model.best_params_\n",
        "print(f\"Best parameters: {best_params}\")\n"
      ]
    },
    {
      "cell_type": "code",
      "execution_count": 97,
      "metadata": {},
      "outputs": [
        {
          "name": "stdout",
          "output_type": "stream",
          "text": [
            "\n",
            "Logistic Regression Model:\n",
            "Accuracy: 0.548\n",
            "Classification Report:\n",
            "              precision    recall  f1-score   support\n",
            "\n",
            "         0.0       0.66      0.72      0.69        32\n",
            "         1.0       0.29      0.32      0.30        31\n",
            "         2.0       0.69      0.58      0.63        31\n",
            "         3.0       0.56      0.31      0.40        32\n",
            "         4.0       0.58      0.81      0.68        31\n",
            "\n",
            "    accuracy                           0.55       157\n",
            "   macro avg       0.55      0.55      0.54       157\n",
            "weighted avg       0.56      0.55      0.54       157\n",
            "\n"
          ]
        }
      ],
      "source": [
        "y_pred_lr = lr_model.predict(X_test_normal)\n",
        "\n",
        "# Evaluate the Logistic Regression model\n",
        "print(\"\\nLogistic Regression Model:\")\n",
        "accuracy_lr_smote_normal_Tun = round(accuracy_score(y_test_normal, y_pred_lr),3)\n",
        "print(\"Accuracy:\",accuracy_lr_smote_normal_Tun)\n",
        "print(\"Classification Report:\")\n",
        "print(classification_report(y_test_normal, y_pred_lr))"
      ]
    },
    {
      "cell_type": "code",
      "execution_count": 98,
      "metadata": {},
      "outputs": [
        {
          "name": "stdout",
          "output_type": "stream",
          "text": [
            "{'accuracy': 0.548, 'recall': 0.548, 'F1 score': 0.539, 'Precision score': 0.555}\n"
          ]
        }
      ],
      "source": [
        "evaluation(y_test_normal,y_pred_lr)"
      ]
    },
    {
      "cell_type": "code",
      "execution_count": 99,
      "metadata": {},
      "outputs": [
        {
          "data": {
            "image/png": "[encoded data removed]",
            "text/plain": [
              "<Figure size 800x600 with 2 Axes>"
            ]
          },
          "metadata": {},
          "output_type": "display_data"
        }
      ],
      "source": [
        "cm = confusion_matrix(y_test_normal, y_pred_lr)\n",
        "\n",
        "plt.figure(figsize=(8, 6))\n",
        "sns.heatmap(cm, annot=True, fmt=\"d\", cmap=\"Blues\")\n",
        "plt.title('Confusion Matrix')\n",
        "plt.xlabel('True')\n",
        "plt.ylabel('Predict')\n",
        "plt.show()\n"
      ]
    },
    {
      "cell_type": "markdown",
      "metadata": {},
      "source": [
        "### SVM"
      ]
    },
    {
      "cell_type": "code",
      "execution_count": 100,
      "metadata": {},
      "outputs": [
        {
          "name": "stderr",
          "output_type": "stream",
          "text": [
            "c:\\laragon\\bin\\python\\python-3.10\\lib\\site-packages\\sklearn\\model_selection\\_search.py:307: UserWarning: The total space of parameters 50 is smaller than n_iter=100. Running 50 iterations. For exhaustive searches, use GridSearchCV.\n",
            "  warnings.warn(\n"
          ]
        },
        {
          "name": "stdout",
          "output_type": "stream",
          "text": [
            "Fitting 5 folds for each of 50 candidates, totalling 250 fits\n",
            "Best parameters: {'kernel': 'rbf', 'gamma': 1, 'C': 100}\n"
          ]
        }
      ],
      "source": [
        "svm_model = svm.SVC()\n",
        "param_grid = {\n",
        "    'C': [0.1, 1, 10, 100, 1000],\n",
        "    'gamma': [1, 0.1, 0.01, 0.001, 0.0001],\n",
        "    'kernel': ['rbf', 'linear'],                 # The kernel coefficient\n",
        "}\n",
        "\n",
        "svm_model = RandomizedSearchCV(\n",
        "    estimator=svm_model, \n",
        "    param_distributions=param_grid, \n",
        "    n_iter=100, \n",
        "    scoring=\"accuracy\", \n",
        "    cv=5,\n",
        "    n_jobs=5,\n",
        "    verbose=1\n",
        ")\n",
        "\n",
        "svm_model.fit(X_train_normal, y_train_normal)\n",
        "\n",
        "# save\n",
        "with open('model/cleveland/svm_tunning.pkl','wb') as f:\n",
        "    pickle.dump(svm_model,f)\n",
        "\n",
        "best_params = svm_model.best_params_\n",
        "print(f\"Best parameters: {best_params}\")"
      ]
    },
    {
      "cell_type": "code",
      "execution_count": 101,
      "metadata": {},
      "outputs": [
        {
          "name": "stdout",
          "output_type": "stream",
          "text": [
            "\n",
            "SVM Model:\n",
            "Accuracy: 0.873\n",
            "Classification Report:\n",
            "              precision    recall  f1-score   support\n",
            "\n",
            "         0.0       0.81      0.78      0.79        32\n",
            "         1.0       0.83      0.81      0.82        31\n",
            "         2.0       0.91      0.94      0.92        31\n",
            "         3.0       0.85      0.88      0.86        32\n",
            "         4.0       0.97      0.97      0.97        31\n",
            "\n",
            "    accuracy                           0.87       157\n",
            "   macro avg       0.87      0.87      0.87       157\n",
            "weighted avg       0.87      0.87      0.87       157\n",
            "\n"
          ]
        }
      ],
      "source": [
        "y_pred_svm = svm_model.predict(X_test_normal)\n",
        "\n",
        "# Evaluate the SVM model\n",
        "print(\"\\nSVM Model:\")\n",
        "accuracy_svm_smote_normal_Tun = round(accuracy_score(y_test_normal, y_pred_svm),3)\n",
        "print(\"Accuracy:\",accuracy_svm_smote_normal_Tun)\n",
        "print(\"Classification Report:\")\n",
        "print(classification_report(y_test_normal, y_pred_svm))"
      ]
    },
    {
      "cell_type": "code",
      "execution_count": 102,
      "metadata": {},
      "outputs": [
        {
          "name": "stdout",
          "output_type": "stream",
          "text": [
            "{'accuracy': 0.873, 'recall': 0.873, 'F1 score': 0.872, 'Precision score': 0.872}\n"
          ]
        }
      ],
      "source": [
        "evaluation(y_test_normal,y_pred_svm)"
      ]
    },
    {
      "cell_type": "code",
      "execution_count": 103,
      "metadata": {},
      "outputs": [
        {
          "data": {
            "image/png": "[encoded data removed]",
            "text/plain": [
              "<Figure size 800x600 with 2 Axes>"
            ]
          },
          "metadata": {},
          "output_type": "display_data"
        }
      ],
      "source": [
        "cm = confusion_matrix(y_test_normal, y_pred_svm)\n",
        "\n",
        "plt.figure(figsize=(8, 6))\n",
        "sns.heatmap(cm, annot=True, fmt=\"d\", cmap=\"Blues\")\n",
        "plt.title('Confusion Matrix')\n",
        "plt.xlabel('True')\n",
        "plt.ylabel('Predict')\n",
        "plt.show()"
      ]
    },
    {
      "cell_type": "markdown",
      "metadata": {
        "id": "0LKUViEf364R"
      },
      "source": [
        "# 8. Evaluasi"
      ]
    },
    {
      "cell_type": "markdown",
      "metadata": {
        "id": "AV9Qtfh43-hr"
      },
      "source": [
        "Selanjutnya kita akan melakukan evaluasi data sekaligus membandingkan antar algoritma guna dengan tujuan mengetahui jenis model algoritma yang menghasilkan hasil akurasi terbaik."
      ]
    },
    {
      "cell_type": "code",
      "execution_count": 104,
      "metadata": {
        "colab": {
          "base_uri": "https://localhost:8080/",
          "height": 143
        },
        "id": "_G8h8odE3_MS",
        "outputId": "a7ba93d5-94df-4331-da15-23676c7b0b62"
      },
      "outputs": [
        {
          "data": {
            "text/html": [
              "<div>\n",
              "<style scoped>\n",
              "    .dataframe tbody tr th:only-of-type {\n",
              "        vertical-align: middle;\n",
              "    }\n",
              "\n",
              "    .dataframe tbody tr th {\n",
              "        vertical-align: top;\n",
              "    }\n",
              "\n",
              "    .dataframe thead th {\n",
              "        text-align: right;\n",
              "    }\n",
              "</style>\n",
              "<table border=\"1\" class=\"dataframe\">\n",
              "  <thead>\n",
              "    <tr style=\"text-align: right;\">\n",
              "      <th></th>\n",
              "      <th>Model</th>\n",
              "      <th>Accuracy</th>\n",
              "    </tr>\n",
              "  </thead>\n",
              "  <tbody>\n",
              "    <tr>\n",
              "      <th>0</th>\n",
              "      <td>K-Nearest Neighbour</td>\n",
              "      <td>68.8</td>\n",
              "    </tr>\n",
              "    <tr>\n",
              "      <th>1</th>\n",
              "      <td>Random Forest</td>\n",
              "      <td>91.1</td>\n",
              "    </tr>\n",
              "    <tr>\n",
              "      <th>2</th>\n",
              "      <td>XGBoost</td>\n",
              "      <td>91.7</td>\n",
              "    </tr>\n",
              "    <tr>\n",
              "      <th>3</th>\n",
              "      <td>Logistic Regression</td>\n",
              "      <td>42.7</td>\n",
              "    </tr>\n",
              "    <tr>\n",
              "      <th>4</th>\n",
              "      <td>SVM</td>\n",
              "      <td>37.6</td>\n",
              "    </tr>\n",
              "  </tbody>\n",
              "</table>\n",
              "</div>"
            ],
            "text/plain": [
              "                 Model  Accuracy\n",
              "0  K-Nearest Neighbour      68.8\n",
              "1        Random Forest      91.1\n",
              "2              XGBoost      91.7\n",
              "3  Logistic Regression      42.7\n",
              "4                  SVM      37.6"
            ]
          },
          "execution_count": 104,
          "metadata": {},
          "output_type": "execute_result"
        }
      ],
      "source": [
        "import matplotlib.pyplot as plt\n",
        "\n",
        "model_comp1 = pd.DataFrame({\n",
        "      'Model': ['K-Nearest Neighbour','Random Forest', 'XGBoost', 'Logistic Regression', 'SVM'],\n",
        "      'Accuracy': [accuracy_knn_smote*100, accuracy_rf_smote*100, accuracy_xgb_smote*100, accuracy_lr_smote*100, accuracy_svm_smote*100],\n",
        "    })\n",
        "\n",
        "model_comp1.head()"
      ]
    },
    {
      "cell_type": "code",
      "execution_count": 105,
      "metadata": {
        "colab": {
          "base_uri": "https://localhost:8080/",
          "height": 569
        },
        "id": "ZZ3lzh2N4Q9Z",
        "outputId": "e240d3d9-3066-470d-c4cf-5cde7f721f96"
      },
      "outputs": [
        {
          "data": {
            "image/png": "[encoded data removed]",
            "text/plain": [
              "<Figure size 640x480 with 1 Axes>"
            ]
          },
          "metadata": {},
          "output_type": "display_data"
        }
      ],
      "source": [
        "# Membuat bar plot dengan keterangan jumlah\n",
        "fig, ax = plt.subplots()\n",
        "bars = plt.bar(model_comp1['Model'], model_comp1['Accuracy'], color=['red', 'green', 'blue', 'yellow', 'purple'])\n",
        "plt.xlabel('Model')\n",
        "plt.ylabel('Accuracy (%)')\n",
        "plt.title('Oversample')\n",
        "plt.xticks(rotation=45, ha='right') # Untuk memutar label sumbu x agar lebih mudah dibaca\n",
        "\n",
        "# Menambahkan keterangan jumlah di atas setiap bar\n",
        "for bar in bars:\n",
        "  yval = bar.get_height()\n",
        "  plt.text(bar.get_x() + bar.get_width()/2, yval, round(yval, 2), ha='center', va='bottom')\n",
        "plt.show()"
      ]
    },
    {
      "cell_type": "code",
      "execution_count": 106,
      "metadata": {
        "colab": {
          "base_uri": "https://localhost:8080/",
          "height": 143
        },
        "id": "-O3jA5Sg4lFZ",
        "outputId": "d8cfd130-72c2-4c7e-b8b2-0c9209e3dfd5"
      },
      "outputs": [
        {
          "data": {
            "text/html": [
              "<div>\n",
              "<style scoped>\n",
              "    .dataframe tbody tr th:only-of-type {\n",
              "        vertical-align: middle;\n",
              "    }\n",
              "\n",
              "    .dataframe tbody tr th {\n",
              "        vertical-align: top;\n",
              "    }\n",
              "\n",
              "    .dataframe thead th {\n",
              "        text-align: right;\n",
              "    }\n",
              "</style>\n",
              "<table border=\"1\" class=\"dataframe\">\n",
              "  <thead>\n",
              "    <tr style=\"text-align: right;\">\n",
              "      <th></th>\n",
              "      <th>Model</th>\n",
              "      <th>Accuracy</th>\n",
              "    </tr>\n",
              "  </thead>\n",
              "  <tbody>\n",
              "    <tr>\n",
              "      <th>0</th>\n",
              "      <td>K-Nearest Neighbour</td>\n",
              "      <td>80.3</td>\n",
              "    </tr>\n",
              "    <tr>\n",
              "      <th>1</th>\n",
              "      <td>Random Forest</td>\n",
              "      <td>91.1</td>\n",
              "    </tr>\n",
              "    <tr>\n",
              "      <th>2</th>\n",
              "      <td>XGBoost</td>\n",
              "      <td>91.7</td>\n",
              "    </tr>\n",
              "    <tr>\n",
              "      <th>3</th>\n",
              "      <td>Logistic Regression</td>\n",
              "      <td>55.4</td>\n",
              "    </tr>\n",
              "    <tr>\n",
              "      <th>4</th>\n",
              "      <td>SVM</td>\n",
              "      <td>55.4</td>\n",
              "    </tr>\n",
              "  </tbody>\n",
              "</table>\n",
              "</div>"
            ],
            "text/plain": [
              "                 Model  Accuracy\n",
              "0  K-Nearest Neighbour      80.3\n",
              "1        Random Forest      91.1\n",
              "2              XGBoost      91.7\n",
              "3  Logistic Regression      55.4\n",
              "4                  SVM      55.4"
            ]
          },
          "execution_count": 106,
          "metadata": {},
          "output_type": "execute_result"
        }
      ],
      "source": [
        "model_comp2 = pd.DataFrame({\n",
        "      'Model': ['K-Nearest Neighbour','Random Forest', 'XGBoost', 'Logistic Regression', 'SVM'],\n",
        "      'Accuracy': [accuracy_knn_smote_normal*100, accuracy_rf_smote_normal*100,accuracy_xgb_smote_normal*100, accuracy_lr_smote_normal*100, accuracy_svm_smote_normal*100],\n",
        "    })\n",
        "model_comp2.head()"
      ]
    },
    {
      "cell_type": "code",
      "execution_count": 107,
      "metadata": {
        "colab": {
          "base_uri": "https://localhost:8080/",
          "height": 569
        },
        "id": "uvM6N_UV5Obr",
        "outputId": "59c41017-31d8-424f-99e7-7e1ec979e4fc"
      },
      "outputs": [
        {
          "data": {
            "image/png": "[encoded data removed]",
            "text/plain": [
              "<Figure size 640x480 with 1 Axes>"
            ]
          },
          "metadata": {},
          "output_type": "display_data"
        }
      ],
      "source": [
        "# Membuat bar plot dengan keterangan jumlah\n",
        "fig, ax = plt.subplots()\n",
        "bars = plt.bar(model_comp2['Model'], model_comp2['Accuracy'], color=['red', 'green', 'blue', 'yellow', 'purple'])\n",
        "plt.xlabel('Model')\n",
        "plt.ylabel('Accuracy (%)')\n",
        "plt.title('Normalization + Oversampling')\n",
        "plt.xticks(rotation=45, ha='right') # Untuk memutar label sumbu x agar lebih mudah dibaca\n",
        "\n",
        "# Menambahkan keterangan jumlah di atas setiap bar\n",
        "for bar in bars:\n",
        "  yval = bar.get_height()\n",
        "  plt.text(bar.get_x() + bar.get_width()/2, yval, round(yval, 2), ha='center', va='bottom')\n",
        "plt.show()\n"
      ]
    },
    {
      "cell_type": "code",
      "execution_count": 108,
      "metadata": {
        "colab": {
          "base_uri": "https://localhost:8080/",
          "height": 143
        },
        "id": "Q-a-Hqeq5cmK",
        "outputId": "e9cbd712-d098-408c-81bd-1e2d959702c3"
      },
      "outputs": [
        {
          "data": {
            "text/html": [
              "<div>\n",
              "<style scoped>\n",
              "    .dataframe tbody tr th:only-of-type {\n",
              "        vertical-align: middle;\n",
              "    }\n",
              "\n",
              "    .dataframe tbody tr th {\n",
              "        vertical-align: top;\n",
              "    }\n",
              "\n",
              "    .dataframe thead th {\n",
              "        text-align: right;\n",
              "    }\n",
              "</style>\n",
              "<table border=\"1\" class=\"dataframe\">\n",
              "  <thead>\n",
              "    <tr style=\"text-align: right;\">\n",
              "      <th></th>\n",
              "      <th>Model</th>\n",
              "      <th>Accuracy</th>\n",
              "    </tr>\n",
              "  </thead>\n",
              "  <tbody>\n",
              "    <tr>\n",
              "      <th>0</th>\n",
              "      <td>K-Nearest Neighbour</td>\n",
              "      <td>87.9</td>\n",
              "    </tr>\n",
              "    <tr>\n",
              "      <th>1</th>\n",
              "      <td>Random Forest</td>\n",
              "      <td>93.0</td>\n",
              "    </tr>\n",
              "    <tr>\n",
              "      <th>2</th>\n",
              "      <td>XGBoost</td>\n",
              "      <td>90.4</td>\n",
              "    </tr>\n",
              "    <tr>\n",
              "      <th>3</th>\n",
              "      <td>Logistic Regression</td>\n",
              "      <td>54.8</td>\n",
              "    </tr>\n",
              "    <tr>\n",
              "      <th>4</th>\n",
              "      <td>SVM</td>\n",
              "      <td>87.3</td>\n",
              "    </tr>\n",
              "  </tbody>\n",
              "</table>\n",
              "</div>"
            ],
            "text/plain": [
              "                 Model  Accuracy\n",
              "0  K-Nearest Neighbour      87.9\n",
              "1        Random Forest      93.0\n",
              "2              XGBoost      90.4\n",
              "3  Logistic Regression      54.8\n",
              "4                  SVM      87.3"
            ]
          },
          "execution_count": 108,
          "metadata": {},
          "output_type": "execute_result"
        }
      ],
      "source": [
        "model_comp3 = pd.DataFrame({\n",
        "      'Model': ['K-Nearest Neighbour','Random Forest', 'XGBoost', 'Logistic Regression', 'SVM'],\n",
        "      'Accuracy': [accuracy_knn_smote_normal_Tun*100, accuracy_rf_smote_normal_Tun*100,accuracy_xgb_smote_normal_Tun*100, accuracy_lr_smote_normal_Tun*100, accuracy_svm_smote_normal_Tun*100]\n",
        "    })\n",
        "model_comp3.head()\n"
      ]
    },
    {
      "cell_type": "code",
      "execution_count": 109,
      "metadata": {
        "colab": {
          "base_uri": "https://localhost:8080/",
          "height": 569
        },
        "id": "CyOmE4l86SQJ",
        "outputId": "a14839ec-c17f-4961-d25a-f8a6a6d57f4a"
      },
      "outputs": [
        {
          "data": {
            "image/png": "[encoded data removed]",
            "text/plain": [
              "<Figure size 640x480 with 1 Axes>"
            ]
          },
          "metadata": {},
          "output_type": "display_data"
        }
      ],
      "source": [
        "# Membuat bar plot dengan keterangan jumlah\n",
        "fig, ax = plt.subplots()\n",
        "bars = plt.bar(model_comp3['Model'], model_comp3['Accuracy'], color=['red', 'green', 'blue', 'yellow', 'purple'])\n",
        "plt.xlabel('Model')\n",
        "plt.ylabel('Accuracy (%)')\n",
        "plt.title('Normalization + Oversampling + Tunning')\n",
        "plt.xticks(rotation=45, ha='right') # Untuk memutar label sumbu x agar lebih mudah dibaca\n",
        "\n",
        "# Menambahkan keterangan jumlah di atas setiap bar\n",
        "for bar in bars:\n",
        "  yval = bar.get_height()\n",
        "  plt.text(bar.get_x() + bar.get_width()/2, yval, round(yval, 2), ha='center', va='bottom')\n",
        "plt.show()\n"
      ]
    },
    {
      "cell_type": "code",
      "execution_count": 125,
      "metadata": {
        "colab": {
          "base_uri": "https://localhost:8080/",
          "height": 673
        },
        "id": "m9ZwHCWO6tcK",
        "outputId": "9b82fc6d-b3ea-446b-b378-bc453d8d7ce7"
      },
      "outputs": [
        {
          "name": "stdout",
          "output_type": "stream",
          "text": [
            "                                 model  accuracy\n",
            "2  KNN Normal + Oversampling + Tunning     0.879\n",
            "                                model  accuracy\n",
            "2  RF Normal + Oversampling + Tunning      0.93\n",
            "                       model  accuracy\n",
            "0           XGB Oversampling     0.917\n",
            "1  XGB Normal + Oversampling     0.917\n",
            "                      model  accuracy\n",
            "1  LR Normal + Oversampling     0.554\n",
            "                                 model  accuracy\n",
            "2  SVM Normal + Oversampling + Tunning     0.873\n"
          ]
        }
      ],
      "source": [
        "# Data frame\n",
        "acc_knn_model = pd.DataFrame({\n",
        "    'model': ['KNN Oversampling', 'KNN Normal + Oversampling', 'KNN Normal + Oversampling + Tunning'],\n",
        "    'accuracy': [accuracy_knn_smote, accuracy_knn_smote_normal, accuracy_knn_smote_normal_Tun]\n",
        "})\n",
        "acc_rf_model = pd.DataFrame({\n",
        "    'model': ['RF Oversampling', 'RF Normal + Oversampling', 'RF Normal + Oversampling + Tunning'],\n",
        "    'accuracy': [accuracy_rf_smote, accuracy_rf_smote_normal, accuracy_rf_smote_normal_Tun]\n",
        "})\n",
        "acc_xgb_model = pd.DataFrame({\n",
        "    'model': ['XGB Oversampling', 'XGB Normal + Oversampling', 'XGB Normal + Oversampling + Tunning'],\n",
        "    'accuracy': [accuracy_xgb_smote, accuracy_xgb_smote_normal, accuracy_xgb_smote_normal_Tun]\n",
        "})\n",
        "acc_lr_model = pd.DataFrame({\n",
        "    'model': ['LR Oversampling', 'LR Normal + Oversampling', 'LR Normal + Oversampling + Tunning'],\n",
        "    'accuracy': [accuracy_lr_smote, accuracy_lr_smote_normal, accuracy_lr_smote_normal_Tun]\n",
        "})\n",
        "acc_svm_model = pd.DataFrame({\n",
        "    'model': ['SVM Oversampling', 'SVM Normal + Oversampling', 'SVM Normal + Oversampling + Tunning'],\n",
        "    'accuracy': [accuracy_svm_smote, accuracy_svm_smote_normal, accuracy_svm_smote_normal_Tun]\n",
        "})\n",
        "knn_best_model = acc_knn_model[acc_knn_model['accuracy']==acc_knn_model['accuracy'].max()]\n",
        "rf_best_model = acc_rf_model[acc_rf_model['accuracy']==acc_rf_model['accuracy'].max()]\n",
        "xgb_best_model = acc_xgb_model[acc_xgb_model['accuracy']==acc_xgb_model['accuracy'].max()]\n",
        "lr_best_model = acc_lr_model[acc_lr_model['accuracy']==acc_lr_model['accuracy'].max()]\n",
        "svm_best_model = acc_svm_model[acc_svm_model['accuracy']==acc_svm_model['accuracy'].max()]\n",
        "\n",
        "print(knn_best_model)\n",
        "print(rf_best_model)\n",
        "print(xgb_best_model)\n",
        "print(lr_best_model)\n",
        "print(svm_best_model)"
      ]
    },
    {
      "cell_type": "code",
      "execution_count": 126,
      "metadata": {},
      "outputs": [
        {
          "data": {
            "image/png": "[encoded data removed]",
            "text/plain": [
              "<Figure size 640x480 with 1 Axes>"
            ]
          },
          "metadata": {},
          "output_type": "display_data"
        }
      ],
      "source": [
        "\n",
        "model_compBest = pd.DataFrame({\n",
        "    'Model': [knn_best_model['model'].values[0], rf_best_model['model'].values[0], xgb_best_model['model'].values[0], lr_best_model['model'].values[0], svm_best_model['model'].values[0]],\n",
        "    'Accuracy': [knn_best_model['accuracy'].values[0]*100, rf_best_model['accuracy'].values[0]*100, xgb_best_model['accuracy'].values[0]*100, lr_best_model['accuracy'].values[0]*100, svm_best_model['accuracy'].values[0]*100]\n",
        "})\n",
        "\n",
        "# Membuat bar plot dengan keterangan jumlah\n",
        "fig, ax = plt.subplots()\n",
        "bars = plt.bar(model_compBest['Model'], model_compBest['Accuracy'], color=['red', 'green', 'blue', 'yellow', 'purple'])\n",
        "plt.xlabel('Model')\n",
        "plt.ylabel('Accuracy (%)')\n",
        "plt.title('Best Model Comparison')\n",
        "plt.xticks(rotation=45, ha='right') # Untuk memutar label sumbu x agar lebih mudah dibaca\n",
        "\n",
        "# Menambahkan keterangan jumlah di atas setiap bar\n",
        "for bar in bars:\n",
        "  yval = bar.get_height()\n",
        "  plt.text(bar.get_x() + bar.get_width()/2, yval, round(yval, 2), ha='center', va='bottom')\n",
        "plt.show()"
      ]
    },
    {
      "cell_type": "markdown",
      "metadata": {
        "id": "wvHV2tZ97xAq"
      },
      "source": [
        "# 9. Deployment"
      ]
    },
    {
      "cell_type": "markdown",
      "metadata": {},
      "source": [
        "Untuk deployment disini menggunakan streamlit, untuk code ada di file app.py"
      ]
    },
    {
      "cell_type": "markdown",
      "metadata": {
        "id": "A5jK-wRI-UJT"
      },
      "source": [
        "# 10. Kesimpulan"
      ]
    },
    {
      "cell_type": "markdown",
      "metadata": {},
      "source": [
        "Dari hasil penelitian diatas dengan menggunakan 3 model yaitu KNN, Random Forest, dan XGBoost. Dengan menggunakan beberapa cara dalam penanganan data yaitu, random over sampling dengan SMOTE untuk imbalance data, RandomSearchCV untuk tunning, dan normalisasi data. \n",
        "Untuk model KNN bisa dilihat bahwa penanganan data yang dilakukan sangat berpengaruh dengan hasil akurasi akhir. Untuk model Random Forest dan XGBoost penanganan data tidak terlalu berpengaruh dengan hasil akurasi akhir.\n",
        "Dari ketiga model tersebut didapatkan hasil akurasi terbaik yaitu 92% dengan model KNN dan Random Forest dengan penanganan data yang berbeda. Dengan masing-masing menggunakan model KNN Oversample Tunning, Random Forest Oversample.\n",
        "Dari hasil tersebut dapat disimpulkan bahwa penanganan dalam ketidakseimbangan data dengan menggunakan tunning parameter, normalisasi dan oversampling dapat memberikan dampak signifikan pada hasil akhir akurasi sebuah model."
      ]
    }
  ],
  "metadata": {
    "colab": {
      "collapsed_sections": [
        "aELknlVBhdvv",
        "Sd7-SU6ahj-n",
        "XxkODYnDkDaH",
        "zDuYx2hUkZ_4",
        "4XMAq4qnlQn3",
        "eQQ5zpB8odsR",
        "hyc0VJZop9Mx",
        "ICquzaYjqU2A",
        "ib2E1QC40b5S",
        "hs4PSvxo00zC",
        "A1wW8Yzb1yC7",
        "gfVO89sc2Lly",
        "O5-atijA2cgS",
        "YcrBwP0z2xQz",
        "3Lp1YdVd3K2Y",
        "xKzn7YB53nJy",
        "0LKUViEf364R",
        "A5jK-wRI-UJT"
      ],
      "provenance": []
    },
    "kernelspec": {
      "display_name": "Python 3",
      "name": "python3"
    },
    "language_info": {
      "codemirror_mode": {
        "name": "ipython",
        "version": 3
      },
      "file_extension": ".py",
      "mimetype": "text/x-python",
      "name": "python",
      "nbconvert_exporter": "python",
      "pygments_lexer": "ipython3",
      "version": "3.10.6"
    }
  },
  "nbformat": 4,
  "nbformat_minor": 0
}
